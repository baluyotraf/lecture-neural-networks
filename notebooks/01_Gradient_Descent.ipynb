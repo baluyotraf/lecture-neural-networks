{
 "cells": [
  {
   "cell_type": "markdown",
   "metadata": {},
   "source": [
    "# Gradient Descent\n",
    "\n",
    "This notebook shows how to implement gradient descent on a linear regressor"
   ]
  },
  {
   "cell_type": "markdown",
   "metadata": {
    "ExecuteTime": {
     "end_time": "2019-03-03T23:46:41.916013Z",
     "start_time": "2019-03-03T23:46:41.912038Z"
    }
   },
   "source": [
    "### Import all the needed libraries"
   ]
  },
  {
   "cell_type": "code",
   "execution_count": null,
   "metadata": {
    "ExecuteTime": {
     "end_time": "2019-03-03T23:56:25.297553Z",
     "start_time": "2019-03-03T23:56:25.269591Z"
    }
   },
   "outputs": [],
   "source": [
    "import random"
   ]
  },
  {
   "cell_type": "markdown",
   "metadata": {},
   "source": [
    "### Define our toy linear problem"
   ]
  },
  {
   "cell_type": "code",
   "execution_count": null,
   "metadata": {
    "ExecuteTime": {
     "end_time": "2019-03-03T23:56:25.390623Z",
     "start_time": "2019-03-03T23:56:25.299550Z"
    }
   },
   "outputs": [],
   "source": [
    "def function(x, y):\n",
    "    return 5*x - 3*y + 3"
   ]
  },
  {
   "cell_type": "markdown",
   "metadata": {
    "ExecuteTime": {
     "end_time": "2019-03-03T23:48:03.498376Z",
     "start_time": "2019-03-03T23:48:03.139005Z"
    }
   },
   "source": [
    "### Generate data and the linear problem to generate labels"
   ]
  },
  {
   "cell_type": "code",
   "execution_count": null,
   "metadata": {
    "ExecuteTime": {
     "end_time": "2019-03-03T23:56:25.477885Z",
     "start_time": "2019-03-03T23:56:25.391601Z"
    }
   },
   "outputs": [],
   "source": [
    "x = [random.random() for _ in range(100)]\n",
    "y = [random.random() for _ in range(100)]\n",
    "z = [function(x_, y_) for x_, y_ in zip(x, y)]"
   ]
  },
  {
   "cell_type": "markdown",
   "metadata": {},
   "source": [
    "### Combine the data together using zip"
   ]
  },
  {
   "cell_type": "code",
   "execution_count": null,
   "metadata": {
    "ExecuteTime": {
     "end_time": "2019-03-03T23:56:25.563594Z",
     "start_time": "2019-03-03T23:56:25.479549Z"
    }
   },
   "outputs": [],
   "source": [
    "data = list(zip(x, y, z))\n",
    "data[0:10]"
   ]
  },
  {
   "cell_type": "markdown",
   "metadata": {
    "ExecuteTime": {
     "end_time": "2019-03-03T23:49:08.142006Z",
     "start_time": "2019-03-03T23:49:08.140006Z"
    }
   },
   "source": [
    "### Initialize the parameters of the linear regressor"
   ]
  },
  {
   "cell_type": "code",
   "execution_count": null,
   "metadata": {
    "ExecuteTime": {
     "end_time": "2019-03-03T23:56:25.643618Z",
     "start_time": "2019-03-03T23:56:25.565551Z"
    }
   },
   "outputs": [],
   "source": [
    "m1 = random.random()\n",
    "m2 = random.random()\n",
    "b = random.random()"
   ]
  },
  {
   "cell_type": "markdown",
   "metadata": {},
   "source": [
    "### Define a learning rate for a more stable gradient"
   ]
  },
  {
   "cell_type": "code",
   "execution_count": null,
   "metadata": {
    "ExecuteTime": {
     "end_time": "2019-03-03T23:56:25.728549Z",
     "start_time": "2019-03-03T23:56:25.644576Z"
    }
   },
   "outputs": [],
   "source": [
    "lr = 0.01"
   ]
  },
  {
   "cell_type": "markdown",
   "metadata": {},
   "source": [
    "### Define a function for getting the result of the regressor"
   ]
  },
  {
   "cell_type": "code",
   "execution_count": null,
   "metadata": {
    "ExecuteTime": {
     "end_time": "2019-03-03T23:56:25.814553Z",
     "start_time": "2019-03-03T23:56:25.729557Z"
    }
   },
   "outputs": [],
   "source": [
    "def get_answer(x, y):\n",
    "    return m1 * x + m2 * y + b"
   ]
  },
  {
   "cell_type": "markdown",
   "metadata": {},
   "source": [
    "### Verify that the linear regressor does not provide the correct answer"
   ]
  },
  {
   "cell_type": "code",
   "execution_count": null,
   "metadata": {
    "ExecuteTime": {
     "end_time": "2019-03-03T23:56:25.906548Z",
     "start_time": "2019-03-03T23:56:25.816550Z"
    }
   },
   "outputs": [],
   "source": [
    "x_, y_, z_ = data[0]\n",
    "print(get_answer(x_, y_), z_)"
   ]
  },
  {
   "cell_type": "markdown",
   "metadata": {},
   "source": [
    "### Define the loss function for the regressor"
   ]
  },
  {
   "cell_type": "code",
   "execution_count": null,
   "metadata": {
    "ExecuteTime": {
     "end_time": "2019-03-03T23:56:25.984632Z",
     "start_time": "2019-03-03T23:56:25.909562Z"
    }
   },
   "outputs": [],
   "source": [
    "def get_error(x, y, z):\n",
    "    P = get_answer(x, y)\n",
    "    error = (P - z)**2\n",
    "    return error"
   ]
  },
  {
   "cell_type": "markdown",
   "metadata": {},
   "source": [
    "### Verify that the loss function provides the expected result"
   ]
  },
  {
   "cell_type": "code",
   "execution_count": null,
   "metadata": {
    "ExecuteTime": {
     "end_time": "2019-03-03T23:56:26.069575Z",
     "start_time": "2019-03-03T23:56:25.986567Z"
    }
   },
   "outputs": [],
   "source": [
    "get_error(x_, y_, z_)"
   ]
  },
  {
   "cell_type": "markdown",
   "metadata": {},
   "source": [
    "### Define the function to calculate the gradients and apply them to the parameters"
   ]
  },
  {
   "cell_type": "code",
   "execution_count": null,
   "metadata": {
    "ExecuteTime": {
     "end_time": "2019-03-03T23:56:26.154928Z",
     "start_time": "2019-03-03T23:56:26.070570Z"
    }
   },
   "outputs": [],
   "source": [
    "def update_values(x, y, z):\n",
    "    global m1, m2, b\n",
    "    \n",
    "    # Compute the Gradients\n",
    "    factor = 2 * (get_answer(x, y) - z)\n",
    "    dm1 = factor * x\n",
    "    dm2 = factor * y\n",
    "    db = factor\n",
    "    \n",
    "    m1 = m1 - dm1 * lr\n",
    "    m2 = m2 - dm2 * lr\n",
    "    b = b - db * lr"
   ]
  },
  {
   "cell_type": "markdown",
   "metadata": {},
   "source": [
    "### Loop through out the data 100 times updating the gradients for each data point"
   ]
  },
  {
   "cell_type": "code",
   "execution_count": null,
   "metadata": {
    "ExecuteTime": {
     "end_time": "2019-03-03T23:56:32.265552Z",
     "start_time": "2019-03-03T23:56:26.156587Z"
    }
   },
   "outputs": [],
   "source": [
    "for _ in range(100):\n",
    "    for x_, y_, z_ in data:\n",
    "        print(x_, y_, z_)\n",
    "        print('\\tPrediction: ', get_answer(x_, y_))\n",
    "        print('\\tError: ', get_error(x_, y_, z_))\n",
    "        update_values(x_, y_, z_)"
   ]
  },
  {
   "cell_type": "markdown",
   "metadata": {
    "ExecuteTime": {
     "end_time": "2019-03-03T23:56:16.784593Z",
     "start_time": "2019-03-03T23:56:16.781576Z"
    }
   },
   "source": [
    "### Show the learned values of the parameters"
   ]
  },
  {
   "cell_type": "code",
   "execution_count": null,
   "metadata": {
    "ExecuteTime": {
     "end_time": "2019-03-03T23:56:32.270548Z",
     "start_time": "2019-03-03T23:56:32.266549Z"
    }
   },
   "outputs": [],
   "source": [
    "m1, m2, b"
   ]
  }
 ],
 "metadata": {
  "kernelspec": {
   "display_name": "Python 3 (ipykernel)",
   "language": "python",
   "name": "python3"
  },
  "language_info": {
   "codemirror_mode": {
    "name": "ipython",
    "version": 3
   },
   "file_extension": ".py",
   "mimetype": "text/x-python",
   "name": "python",
   "nbconvert_exporter": "python",
   "pygments_lexer": "ipython3",
   "version": "3.8.15"
  }
 },
 "nbformat": 4,
 "nbformat_minor": 2
}
