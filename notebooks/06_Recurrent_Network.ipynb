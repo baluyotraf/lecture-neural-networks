{
 "cells": [
  {
   "cell_type": "markdown",
   "metadata": {},
   "source": [
    "# Recurrent Network\n",
    "\n",
    "This notebook shows how to create a recurrent network"
   ]
  },
  {
   "cell_type": "markdown",
   "metadata": {
    "ExecuteTime": {
     "end_time": "2019-03-21T00:48:14.987410Z",
     "start_time": "2019-03-21T00:48:13.356140Z"
    }
   },
   "source": [
    "### Import all the needed modules"
   ]
  },
  {
   "cell_type": "code",
   "execution_count": null,
   "metadata": {
    "ExecuteTime": {
     "end_time": "2019-03-21T00:54:52.420451Z",
     "start_time": "2019-03-21T00:54:31.339306Z"
    }
   },
   "outputs": [],
   "source": [
    "import numpy as np\n",
    "import tensorflow as tf\n",
    "from sklearn.metrics import mean_absolute_error"
   ]
  },
  {
   "cell_type": "markdown",
   "metadata": {},
   "source": [
    "### Generate random values and calculate the label using the toy problem\n",
    "\n",
    "The model shold be able to learn how to calculate the standard deviation of a sequence\n",
    "\n",
    "To define data with different lengths, we set the unused parts of the data as -1."
   ]
  },
  {
   "cell_type": "code",
   "execution_count": null,
   "metadata": {
    "ExecuteTime": {
     "end_time": "2019-03-21T00:54:52.542324Z",
     "start_time": "2019-03-21T00:54:52.422301Z"
    }
   },
   "outputs": [],
   "source": [
    "N_SAMPLES = 100000\n",
    "N_TEST = 1000\n",
    "MAX_TIMESTEPS = 10\n",
    "MASK_VALUE = -1\n",
    "\n",
    "train_X = np.random.uniform(size=(N_SAMPLES, MAX_TIMESTEPS, 1))\n",
    "train_L = np.random.randint(2, MAX_TIMESTEPS, N_SAMPLES)\n",
    "\n",
    "test_X = np.random.uniform(size=(N_TEST, MAX_TIMESTEPS, 1))\n",
    "test_L = np.random.randint(2, MAX_TIMESTEPS, N_TEST)"
   ]
  },
  {
   "cell_type": "code",
   "execution_count": null,
   "metadata": {},
   "outputs": [],
   "source": [
    "for i in range(N_SAMPLES):\n",
    "    train_X[i, train_L[i]:] = MASK_VALUE"
   ]
  },
  {
   "cell_type": "code",
   "execution_count": null,
   "metadata": {},
   "outputs": [],
   "source": [
    "for i in range(N_TEST):\n",
    "    test_X[i, test_L[i]:] = MASK_VALUE"
   ]
  },
  {
   "cell_type": "code",
   "execution_count": null,
   "metadata": {},
   "outputs": [],
   "source": [
    "train_y = np.ma.masked_array(train_X, train_X==MASK_VALUE).std(axis=1).data\n",
    "test_y = np.ma.masked_array(test_X, test_X==MASK_VALUE).std(axis=1).data"
   ]
  },
  {
   "cell_type": "markdown",
   "metadata": {},
   "source": [
    "### Define the connections of the nodes in the network and verify the model\n",
    "\n",
    "The ```Masking``` layer removes the numbers whose values are equal to -1. This allows us to tell the network that the data lengths are different.\n",
    "\n",
    "The ```return_sequence``` flag defines if the LSTM should return only the last or the full sequence"
   ]
  },
  {
   "cell_type": "code",
   "execution_count": null,
   "metadata": {
    "ExecuteTime": {
     "end_time": "2019-03-21T00:54:53.427284Z",
     "start_time": "2019-03-21T00:54:52.546293Z"
    }
   },
   "outputs": [],
   "source": [
    "input_ = tf.keras.Input(shape=(None, 1))\n",
    "masked = tf.keras.layers.Masking(MASK_VALUE)(input_)\n",
    "lstm1 = tf.keras.layers.LSTM(32, return_sequences=True)(masked)\n",
    "lstm2 = tf.keras.layers.LSTM(32)(lstm1)\n",
    "output = tf.keras.layers.Dense(1)(lstm2)\n",
    "\n",
    "model = tf.keras.Model(inputs=input_, outputs=output)\n",
    "model.summary()"
   ]
  },
  {
   "cell_type": "markdown",
   "metadata": {},
   "source": [
    "### Compile the model by providing the optimization algorithm and the loss function"
   ]
  },
  {
   "cell_type": "code",
   "execution_count": null,
   "metadata": {
    "ExecuteTime": {
     "end_time": "2019-03-21T00:54:53.471368Z",
     "start_time": "2019-03-21T00:54:53.431284Z"
    }
   },
   "outputs": [],
   "source": [
    "model.compile('adam', 'mse')"
   ]
  },
  {
   "cell_type": "markdown",
   "metadata": {},
   "source": [
    "### Train the model for 3 epochs"
   ]
  },
  {
   "cell_type": "code",
   "execution_count": null,
   "metadata": {
    "ExecuteTime": {
     "end_time": "2019-03-21T01:17:46.192060Z",
     "start_time": "2019-03-21T00:54:53.473299Z"
    },
    "scrolled": false
   },
   "outputs": [],
   "source": [
    "hist = model.fit(train_X, train_y, epochs=3)"
   ]
  },
  {
   "cell_type": "markdown",
   "metadata": {},
   "source": [
    "### View the predictions on the test set"
   ]
  },
  {
   "cell_type": "code",
   "execution_count": null,
   "metadata": {
    "ExecuteTime": {
     "end_time": "2019-03-21T01:17:47.257023Z",
     "start_time": "2019-03-21T01:17:46.198021Z"
    },
    "scrolled": false
   },
   "outputs": [],
   "source": [
    "prediction = model.predict(test_X)"
   ]
  },
  {
   "cell_type": "code",
   "execution_count": null,
   "metadata": {},
   "outputs": [],
   "source": [
    "prediction[:5]"
   ]
  },
  {
   "cell_type": "code",
   "execution_count": null,
   "metadata": {},
   "outputs": [],
   "source": [
    "test_y[:5]"
   ]
  },
  {
   "cell_type": "code",
   "execution_count": null,
   "metadata": {},
   "outputs": [],
   "source": [
    "mean_absolute_error(test_y, prediction)"
   ]
  }
 ],
 "metadata": {
  "kernelspec": {
   "display_name": "Python 3 (ipykernel)",
   "language": "python",
   "name": "python3"
  },
  "language_info": {
   "codemirror_mode": {
    "name": "ipython",
    "version": 3
   },
   "file_extension": ".py",
   "mimetype": "text/x-python",
   "name": "python",
   "nbconvert_exporter": "python",
   "pygments_lexer": "ipython3",
   "version": "3.8.15"
  }
 },
 "nbformat": 4,
 "nbformat_minor": 2
}
