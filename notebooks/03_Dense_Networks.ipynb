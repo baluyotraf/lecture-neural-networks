{
 "cells": [
  {
   "cell_type": "markdown",
   "metadata": {},
   "source": [
    "# Dense Networks\n",
    "\n",
    "This notebook shows how to apply dense networks into real life data"
   ]
  },
  {
   "cell_type": "markdown",
   "metadata": {},
   "source": [
    "### Import all the needed modules"
   ]
  },
  {
   "cell_type": "code",
   "execution_count": 1,
   "metadata": {
    "ExecuteTime": {
     "end_time": "2019-03-04T02:06:51.078493Z",
     "start_time": "2019-03-04T02:06:51.072493Z"
    }
   },
   "outputs": [],
   "source": [
    "import os\n",
    "\n",
    "import numpy as np\n",
    "import pandas as pd\n",
    "import tensorflow as tf\n",
    "from sklearn.compose import ColumnTransformer\n",
    "from sklearn.preprocessing import OneHotEncoder, StandardScaler \n",
    "from sklearn.model_selection import train_test_split"
   ]
  },
  {
   "cell_type": "markdown",
   "metadata": {},
   "source": [
    "### Define the path of the data source for convenience\n",
    "\n",
    "Source of the data is the `train.csv` of https://www.kaggle.com/c/microsoft-malware-prediction/data\n",
    "\n",
    "A subset of the data with 10000 rows is also provided with the presentations named `malware.csv`"
   ]
  },
  {
   "cell_type": "code",
   "execution_count": 2,
   "metadata": {
    "ExecuteTime": {
     "end_time": "2019-03-04T01:31:10.921205Z",
     "start_time": "2019-03-04T01:31:10.918203Z"
    }
   },
   "outputs": [],
   "source": [
    "CSV_PATH='malware.csv'"
   ]
  },
  {
   "cell_type": "markdown",
   "metadata": {
    "ExecuteTime": {
     "end_time": "2019-03-04T01:17:11.711621Z",
     "start_time": "2019-03-04T01:17:11.707579Z"
    }
   },
   "source": [
    "### Read the first 10,000 rows of the data"
   ]
  },
  {
   "cell_type": "code",
   "execution_count": 3,
   "metadata": {
    "ExecuteTime": {
     "end_time": "2019-03-04T01:34:12.769732Z",
     "start_time": "2019-03-04T01:34:10.579732Z"
    }
   },
   "outputs": [],
   "source": [
    "df = pd.read_csv(CSV_PATH, nrows=10000)"
   ]
  },
  {
   "cell_type": "markdown",
   "metadata": {},
   "source": [
    "### View the loaded dataset"
   ]
  },
  {
   "cell_type": "code",
   "execution_count": 4,
   "metadata": {
    "ExecuteTime": {
     "end_time": "2019-03-04T01:34:17.899198Z",
     "start_time": "2019-03-04T01:34:17.573188Z"
    }
   },
   "outputs": [
    {
     "data": {
      "text/html": [
       "<div>\n",
       "<style scoped>\n",
       "    .dataframe tbody tr th:only-of-type {\n",
       "        vertical-align: middle;\n",
       "    }\n",
       "\n",
       "    .dataframe tbody tr th {\n",
       "        vertical-align: top;\n",
       "    }\n",
       "\n",
       "    .dataframe thead th {\n",
       "        text-align: right;\n",
       "    }\n",
       "</style>\n",
       "<table border=\"1\" class=\"dataframe\">\n",
       "  <thead>\n",
       "    <tr style=\"text-align: right;\">\n",
       "      <th></th>\n",
       "      <th>MachineIdentifier</th>\n",
       "      <th>ProductName</th>\n",
       "      <th>EngineVersion</th>\n",
       "      <th>AppVersion</th>\n",
       "      <th>AvSigVersion</th>\n",
       "      <th>IsBeta</th>\n",
       "      <th>RtpStateBitfield</th>\n",
       "      <th>IsSxsPassiveMode</th>\n",
       "      <th>DefaultBrowsersIdentifier</th>\n",
       "      <th>AVProductStatesIdentifier</th>\n",
       "      <th>...</th>\n",
       "      <th>Census_FirmwareVersionIdentifier</th>\n",
       "      <th>Census_IsSecureBootEnabled</th>\n",
       "      <th>Census_IsWIMBootEnabled</th>\n",
       "      <th>Census_IsVirtualDevice</th>\n",
       "      <th>Census_IsTouchEnabled</th>\n",
       "      <th>Census_IsPenCapable</th>\n",
       "      <th>Census_IsAlwaysOnAlwaysConnectedCapable</th>\n",
       "      <th>Wdft_IsGamer</th>\n",
       "      <th>Wdft_RegionIdentifier</th>\n",
       "      <th>HasDetections</th>\n",
       "    </tr>\n",
       "  </thead>\n",
       "  <tbody>\n",
       "    <tr>\n",
       "      <th>0</th>\n",
       "      <td>0000028988387b115f69f31a3bf04f09</td>\n",
       "      <td>win8defender</td>\n",
       "      <td>1.1.15100.1</td>\n",
       "      <td>4.18.1807.18075</td>\n",
       "      <td>1.273.1735.0</td>\n",
       "      <td>0</td>\n",
       "      <td>7.0</td>\n",
       "      <td>0</td>\n",
       "      <td>NaN</td>\n",
       "      <td>53447.0</td>\n",
       "      <td>...</td>\n",
       "      <td>36144.0</td>\n",
       "      <td>0</td>\n",
       "      <td>NaN</td>\n",
       "      <td>0.0</td>\n",
       "      <td>0</td>\n",
       "      <td>0</td>\n",
       "      <td>0.0</td>\n",
       "      <td>0.0</td>\n",
       "      <td>10.0</td>\n",
       "      <td>0</td>\n",
       "    </tr>\n",
       "    <tr>\n",
       "      <th>1</th>\n",
       "      <td>000007535c3f730efa9ea0b7ef1bd645</td>\n",
       "      <td>win8defender</td>\n",
       "      <td>1.1.14600.4</td>\n",
       "      <td>4.13.17134.1</td>\n",
       "      <td>1.263.48.0</td>\n",
       "      <td>0</td>\n",
       "      <td>7.0</td>\n",
       "      <td>0</td>\n",
       "      <td>NaN</td>\n",
       "      <td>53447.0</td>\n",
       "      <td>...</td>\n",
       "      <td>57858.0</td>\n",
       "      <td>0</td>\n",
       "      <td>NaN</td>\n",
       "      <td>0.0</td>\n",
       "      <td>0</td>\n",
       "      <td>0</td>\n",
       "      <td>0.0</td>\n",
       "      <td>0.0</td>\n",
       "      <td>8.0</td>\n",
       "      <td>0</td>\n",
       "    </tr>\n",
       "    <tr>\n",
       "      <th>2</th>\n",
       "      <td>000007905a28d863f6d0d597892cd692</td>\n",
       "      <td>win8defender</td>\n",
       "      <td>1.1.15100.1</td>\n",
       "      <td>4.18.1807.18075</td>\n",
       "      <td>1.273.1341.0</td>\n",
       "      <td>0</td>\n",
       "      <td>7.0</td>\n",
       "      <td>0</td>\n",
       "      <td>NaN</td>\n",
       "      <td>53447.0</td>\n",
       "      <td>...</td>\n",
       "      <td>52682.0</td>\n",
       "      <td>0</td>\n",
       "      <td>NaN</td>\n",
       "      <td>0.0</td>\n",
       "      <td>0</td>\n",
       "      <td>0</td>\n",
       "      <td>0.0</td>\n",
       "      <td>0.0</td>\n",
       "      <td>3.0</td>\n",
       "      <td>0</td>\n",
       "    </tr>\n",
       "    <tr>\n",
       "      <th>3</th>\n",
       "      <td>00000b11598a75ea8ba1beea8459149f</td>\n",
       "      <td>win8defender</td>\n",
       "      <td>1.1.15100.1</td>\n",
       "      <td>4.18.1807.18075</td>\n",
       "      <td>1.273.1527.0</td>\n",
       "      <td>0</td>\n",
       "      <td>7.0</td>\n",
       "      <td>0</td>\n",
       "      <td>NaN</td>\n",
       "      <td>53447.0</td>\n",
       "      <td>...</td>\n",
       "      <td>20050.0</td>\n",
       "      <td>0</td>\n",
       "      <td>NaN</td>\n",
       "      <td>0.0</td>\n",
       "      <td>0</td>\n",
       "      <td>0</td>\n",
       "      <td>0.0</td>\n",
       "      <td>0.0</td>\n",
       "      <td>3.0</td>\n",
       "      <td>1</td>\n",
       "    </tr>\n",
       "    <tr>\n",
       "      <th>4</th>\n",
       "      <td>000014a5f00daa18e76b81417eeb99fc</td>\n",
       "      <td>win8defender</td>\n",
       "      <td>1.1.15100.1</td>\n",
       "      <td>4.18.1807.18075</td>\n",
       "      <td>1.273.1379.0</td>\n",
       "      <td>0</td>\n",
       "      <td>7.0</td>\n",
       "      <td>0</td>\n",
       "      <td>NaN</td>\n",
       "      <td>53447.0</td>\n",
       "      <td>...</td>\n",
       "      <td>19844.0</td>\n",
       "      <td>0</td>\n",
       "      <td>0.0</td>\n",
       "      <td>0.0</td>\n",
       "      <td>0</td>\n",
       "      <td>0</td>\n",
       "      <td>0.0</td>\n",
       "      <td>0.0</td>\n",
       "      <td>1.0</td>\n",
       "      <td>1</td>\n",
       "    </tr>\n",
       "  </tbody>\n",
       "</table>\n",
       "<p>5 rows × 83 columns</p>\n",
       "</div>"
      ],
      "text/plain": [
       "                  MachineIdentifier   ProductName EngineVersion  \\\n",
       "0  0000028988387b115f69f31a3bf04f09  win8defender   1.1.15100.1   \n",
       "1  000007535c3f730efa9ea0b7ef1bd645  win8defender   1.1.14600.4   \n",
       "2  000007905a28d863f6d0d597892cd692  win8defender   1.1.15100.1   \n",
       "3  00000b11598a75ea8ba1beea8459149f  win8defender   1.1.15100.1   \n",
       "4  000014a5f00daa18e76b81417eeb99fc  win8defender   1.1.15100.1   \n",
       "\n",
       "        AppVersion  AvSigVersion  IsBeta  RtpStateBitfield  IsSxsPassiveMode  \\\n",
       "0  4.18.1807.18075  1.273.1735.0       0               7.0                 0   \n",
       "1     4.13.17134.1    1.263.48.0       0               7.0                 0   \n",
       "2  4.18.1807.18075  1.273.1341.0       0               7.0                 0   \n",
       "3  4.18.1807.18075  1.273.1527.0       0               7.0                 0   \n",
       "4  4.18.1807.18075  1.273.1379.0       0               7.0                 0   \n",
       "\n",
       "   DefaultBrowsersIdentifier  AVProductStatesIdentifier  ...  \\\n",
       "0                        NaN                    53447.0  ...   \n",
       "1                        NaN                    53447.0  ...   \n",
       "2                        NaN                    53447.0  ...   \n",
       "3                        NaN                    53447.0  ...   \n",
       "4                        NaN                    53447.0  ...   \n",
       "\n",
       "   Census_FirmwareVersionIdentifier  Census_IsSecureBootEnabled  \\\n",
       "0                           36144.0                           0   \n",
       "1                           57858.0                           0   \n",
       "2                           52682.0                           0   \n",
       "3                           20050.0                           0   \n",
       "4                           19844.0                           0   \n",
       "\n",
       "   Census_IsWIMBootEnabled  Census_IsVirtualDevice  Census_IsTouchEnabled  \\\n",
       "0                      NaN                     0.0                      0   \n",
       "1                      NaN                     0.0                      0   \n",
       "2                      NaN                     0.0                      0   \n",
       "3                      NaN                     0.0                      0   \n",
       "4                      0.0                     0.0                      0   \n",
       "\n",
       "   Census_IsPenCapable  Census_IsAlwaysOnAlwaysConnectedCapable  Wdft_IsGamer  \\\n",
       "0                    0                                      0.0           0.0   \n",
       "1                    0                                      0.0           0.0   \n",
       "2                    0                                      0.0           0.0   \n",
       "3                    0                                      0.0           0.0   \n",
       "4                    0                                      0.0           0.0   \n",
       "\n",
       "  Wdft_RegionIdentifier HasDetections  \n",
       "0                  10.0             0  \n",
       "1                   8.0             0  \n",
       "2                   3.0             0  \n",
       "3                   3.0             1  \n",
       "4                   1.0             1  \n",
       "\n",
       "[5 rows x 83 columns]"
      ]
     },
     "execution_count": 4,
     "metadata": {},
     "output_type": "execute_result"
    }
   ],
   "source": [
    "df.head()"
   ]
  },
  {
   "cell_type": "code",
   "execution_count": 5,
   "metadata": {},
   "outputs": [
    {
     "data": {
      "text/html": [
       "<div>\n",
       "<style scoped>\n",
       "    .dataframe tbody tr th:only-of-type {\n",
       "        vertical-align: middle;\n",
       "    }\n",
       "\n",
       "    .dataframe tbody tr th {\n",
       "        vertical-align: top;\n",
       "    }\n",
       "\n",
       "    .dataframe thead th {\n",
       "        text-align: right;\n",
       "    }\n",
       "</style>\n",
       "<table border=\"1\" class=\"dataframe\">\n",
       "  <thead>\n",
       "    <tr style=\"text-align: right;\">\n",
       "      <th></th>\n",
       "      <th>MachineIdentifier</th>\n",
       "      <th>ProductName</th>\n",
       "      <th>EngineVersion</th>\n",
       "      <th>AppVersion</th>\n",
       "      <th>AvSigVersion</th>\n",
       "      <th>IsBeta</th>\n",
       "      <th>RtpStateBitfield</th>\n",
       "      <th>IsSxsPassiveMode</th>\n",
       "      <th>DefaultBrowsersIdentifier</th>\n",
       "      <th>AVProductStatesIdentifier</th>\n",
       "      <th>...</th>\n",
       "      <th>Census_FirmwareVersionIdentifier</th>\n",
       "      <th>Census_IsSecureBootEnabled</th>\n",
       "      <th>Census_IsWIMBootEnabled</th>\n",
       "      <th>Census_IsVirtualDevice</th>\n",
       "      <th>Census_IsTouchEnabled</th>\n",
       "      <th>Census_IsPenCapable</th>\n",
       "      <th>Census_IsAlwaysOnAlwaysConnectedCapable</th>\n",
       "      <th>Wdft_IsGamer</th>\n",
       "      <th>Wdft_RegionIdentifier</th>\n",
       "      <th>HasDetections</th>\n",
       "    </tr>\n",
       "  </thead>\n",
       "  <tbody>\n",
       "    <tr>\n",
       "      <th>9995</th>\n",
       "      <td>004aad9e0c5fae58a1cd8a077e53af09</td>\n",
       "      <td>win8defender</td>\n",
       "      <td>1.1.15100.1</td>\n",
       "      <td>4.18.1806.18062</td>\n",
       "      <td>1.273.499.0</td>\n",
       "      <td>0</td>\n",
       "      <td>7.0</td>\n",
       "      <td>0</td>\n",
       "      <td>NaN</td>\n",
       "      <td>53447.0</td>\n",
       "      <td>...</td>\n",
       "      <td>33039.0</td>\n",
       "      <td>0</td>\n",
       "      <td>NaN</td>\n",
       "      <td>0.0</td>\n",
       "      <td>0</td>\n",
       "      <td>0</td>\n",
       "      <td>0.0</td>\n",
       "      <td>0.0</td>\n",
       "      <td>7.0</td>\n",
       "      <td>0</td>\n",
       "    </tr>\n",
       "    <tr>\n",
       "      <th>9996</th>\n",
       "      <td>004aadc1779b06368e94b3572f62da6e</td>\n",
       "      <td>win8defender</td>\n",
       "      <td>1.1.15100.1</td>\n",
       "      <td>4.14.17613.18039</td>\n",
       "      <td>1.273.1311.0</td>\n",
       "      <td>0</td>\n",
       "      <td>7.0</td>\n",
       "      <td>0</td>\n",
       "      <td>NaN</td>\n",
       "      <td>23796.0</td>\n",
       "      <td>...</td>\n",
       "      <td>33137.0</td>\n",
       "      <td>1</td>\n",
       "      <td>0.0</td>\n",
       "      <td>0.0</td>\n",
       "      <td>0</td>\n",
       "      <td>0</td>\n",
       "      <td>0.0</td>\n",
       "      <td>0.0</td>\n",
       "      <td>11.0</td>\n",
       "      <td>0</td>\n",
       "    </tr>\n",
       "    <tr>\n",
       "      <th>9997</th>\n",
       "      <td>004aade4fdb90b1d764b466829b170aa</td>\n",
       "      <td>win8defender</td>\n",
       "      <td>1.1.15200.1</td>\n",
       "      <td>4.18.1807.18075</td>\n",
       "      <td>1.275.1198.0</td>\n",
       "      <td>0</td>\n",
       "      <td>7.0</td>\n",
       "      <td>0</td>\n",
       "      <td>NaN</td>\n",
       "      <td>43981.0</td>\n",
       "      <td>...</td>\n",
       "      <td>48386.0</td>\n",
       "      <td>0</td>\n",
       "      <td>0.0</td>\n",
       "      <td>0.0</td>\n",
       "      <td>0</td>\n",
       "      <td>0</td>\n",
       "      <td>0.0</td>\n",
       "      <td>0.0</td>\n",
       "      <td>11.0</td>\n",
       "      <td>1</td>\n",
       "    </tr>\n",
       "    <tr>\n",
       "      <th>9998</th>\n",
       "      <td>004ab08c3c3e660f85e06fac08c5a0f8</td>\n",
       "      <td>win8defender</td>\n",
       "      <td>1.1.15200.1</td>\n",
       "      <td>4.18.1807.18075</td>\n",
       "      <td>1.275.995.0</td>\n",
       "      <td>0</td>\n",
       "      <td>7.0</td>\n",
       "      <td>0</td>\n",
       "      <td>NaN</td>\n",
       "      <td>53447.0</td>\n",
       "      <td>...</td>\n",
       "      <td>3844.0</td>\n",
       "      <td>0</td>\n",
       "      <td>NaN</td>\n",
       "      <td>0.0</td>\n",
       "      <td>0</td>\n",
       "      <td>0</td>\n",
       "      <td>0.0</td>\n",
       "      <td>1.0</td>\n",
       "      <td>3.0</td>\n",
       "      <td>1</td>\n",
       "    </tr>\n",
       "    <tr>\n",
       "      <th>9999</th>\n",
       "      <td>004ab1df5449176bae63dd08eb2a7e3a</td>\n",
       "      <td>win8defender</td>\n",
       "      <td>1.1.14901.4</td>\n",
       "      <td>4.14.17639.18041</td>\n",
       "      <td>1.269.277.0</td>\n",
       "      <td>0</td>\n",
       "      <td>7.0</td>\n",
       "      <td>0</td>\n",
       "      <td>NaN</td>\n",
       "      <td>6554.0</td>\n",
       "      <td>...</td>\n",
       "      <td>69873.0</td>\n",
       "      <td>1</td>\n",
       "      <td>NaN</td>\n",
       "      <td>0.0</td>\n",
       "      <td>0</td>\n",
       "      <td>0</td>\n",
       "      <td>0.0</td>\n",
       "      <td>0.0</td>\n",
       "      <td>15.0</td>\n",
       "      <td>0</td>\n",
       "    </tr>\n",
       "  </tbody>\n",
       "</table>\n",
       "<p>5 rows × 83 columns</p>\n",
       "</div>"
      ],
      "text/plain": [
       "                     MachineIdentifier   ProductName EngineVersion  \\\n",
       "9995  004aad9e0c5fae58a1cd8a077e53af09  win8defender   1.1.15100.1   \n",
       "9996  004aadc1779b06368e94b3572f62da6e  win8defender   1.1.15100.1   \n",
       "9997  004aade4fdb90b1d764b466829b170aa  win8defender   1.1.15200.1   \n",
       "9998  004ab08c3c3e660f85e06fac08c5a0f8  win8defender   1.1.15200.1   \n",
       "9999  004ab1df5449176bae63dd08eb2a7e3a  win8defender   1.1.14901.4   \n",
       "\n",
       "            AppVersion  AvSigVersion  IsBeta  RtpStateBitfield  \\\n",
       "9995   4.18.1806.18062   1.273.499.0       0               7.0   \n",
       "9996  4.14.17613.18039  1.273.1311.0       0               7.0   \n",
       "9997   4.18.1807.18075  1.275.1198.0       0               7.0   \n",
       "9998   4.18.1807.18075   1.275.995.0       0               7.0   \n",
       "9999  4.14.17639.18041   1.269.277.0       0               7.0   \n",
       "\n",
       "      IsSxsPassiveMode  DefaultBrowsersIdentifier  AVProductStatesIdentifier  \\\n",
       "9995                 0                        NaN                    53447.0   \n",
       "9996                 0                        NaN                    23796.0   \n",
       "9997                 0                        NaN                    43981.0   \n",
       "9998                 0                        NaN                    53447.0   \n",
       "9999                 0                        NaN                     6554.0   \n",
       "\n",
       "      ...  Census_FirmwareVersionIdentifier  Census_IsSecureBootEnabled  \\\n",
       "9995  ...                           33039.0                           0   \n",
       "9996  ...                           33137.0                           1   \n",
       "9997  ...                           48386.0                           0   \n",
       "9998  ...                            3844.0                           0   \n",
       "9999  ...                           69873.0                           1   \n",
       "\n",
       "      Census_IsWIMBootEnabled  Census_IsVirtualDevice  Census_IsTouchEnabled  \\\n",
       "9995                      NaN                     0.0                      0   \n",
       "9996                      0.0                     0.0                      0   \n",
       "9997                      0.0                     0.0                      0   \n",
       "9998                      NaN                     0.0                      0   \n",
       "9999                      NaN                     0.0                      0   \n",
       "\n",
       "      Census_IsPenCapable  Census_IsAlwaysOnAlwaysConnectedCapable  \\\n",
       "9995                    0                                      0.0   \n",
       "9996                    0                                      0.0   \n",
       "9997                    0                                      0.0   \n",
       "9998                    0                                      0.0   \n",
       "9999                    0                                      0.0   \n",
       "\n",
       "      Wdft_IsGamer Wdft_RegionIdentifier HasDetections  \n",
       "9995           0.0                   7.0             0  \n",
       "9996           0.0                  11.0             0  \n",
       "9997           0.0                  11.0             1  \n",
       "9998           1.0                   3.0             1  \n",
       "9999           0.0                  15.0             0  \n",
       "\n",
       "[5 rows x 83 columns]"
      ]
     },
     "execution_count": 5,
     "metadata": {},
     "output_type": "execute_result"
    }
   ],
   "source": [
    "df.tail()"
   ]
  },
  {
   "cell_type": "markdown",
   "metadata": {},
   "source": [
    "### Extract the labels of the data"
   ]
  },
  {
   "cell_type": "code",
   "execution_count": 6,
   "metadata": {
    "ExecuteTime": {
     "end_time": "2019-03-04T01:34:45.042942Z",
     "start_time": "2019-03-04T01:34:45.038948Z"
    }
   },
   "outputs": [],
   "source": [
    "y = df['HasDetections'].values"
   ]
  },
  {
   "cell_type": "code",
   "execution_count": 7,
   "metadata": {
    "ExecuteTime": {
     "end_time": "2019-03-04T01:34:45.621977Z",
     "start_time": "2019-03-04T01:34:45.614984Z"
    }
   },
   "outputs": [
    {
     "data": {
      "text/plain": [
       "array([0, 0, 0, ..., 1, 1, 0])"
      ]
     },
     "execution_count": 7,
     "metadata": {},
     "output_type": "execute_result"
    }
   ],
   "source": [
    "y"
   ]
  },
  {
   "cell_type": "markdown",
   "metadata": {},
   "source": [
    "### Select a few columns as features"
   ]
  },
  {
   "cell_type": "code",
   "execution_count": 8,
   "metadata": {
    "ExecuteTime": {
     "end_time": "2019-03-04T01:40:55.373291Z",
     "start_time": "2019-03-04T01:40:55.359319Z"
    }
   },
   "outputs": [
    {
     "data": {
      "text/html": [
       "<div>\n",
       "<style scoped>\n",
       "    .dataframe tbody tr th:only-of-type {\n",
       "        vertical-align: middle;\n",
       "    }\n",
       "\n",
       "    .dataframe tbody tr th {\n",
       "        vertical-align: top;\n",
       "    }\n",
       "\n",
       "    .dataframe thead th {\n",
       "        text-align: right;\n",
       "    }\n",
       "</style>\n",
       "<table border=\"1\" class=\"dataframe\">\n",
       "  <thead>\n",
       "    <tr style=\"text-align: right;\">\n",
       "      <th></th>\n",
       "      <th>ProductName</th>\n",
       "      <th>Platform</th>\n",
       "      <th>OsBuild</th>\n",
       "      <th>AVProductsInstalled</th>\n",
       "    </tr>\n",
       "  </thead>\n",
       "  <tbody>\n",
       "    <tr>\n",
       "      <th>0</th>\n",
       "      <td>win8defender</td>\n",
       "      <td>windows10</td>\n",
       "      <td>17134</td>\n",
       "      <td>1.0</td>\n",
       "    </tr>\n",
       "    <tr>\n",
       "      <th>1</th>\n",
       "      <td>win8defender</td>\n",
       "      <td>windows10</td>\n",
       "      <td>17134</td>\n",
       "      <td>1.0</td>\n",
       "    </tr>\n",
       "    <tr>\n",
       "      <th>2</th>\n",
       "      <td>win8defender</td>\n",
       "      <td>windows10</td>\n",
       "      <td>17134</td>\n",
       "      <td>1.0</td>\n",
       "    </tr>\n",
       "    <tr>\n",
       "      <th>3</th>\n",
       "      <td>win8defender</td>\n",
       "      <td>windows10</td>\n",
       "      <td>17134</td>\n",
       "      <td>1.0</td>\n",
       "    </tr>\n",
       "    <tr>\n",
       "      <th>4</th>\n",
       "      <td>win8defender</td>\n",
       "      <td>windows10</td>\n",
       "      <td>17134</td>\n",
       "      <td>1.0</td>\n",
       "    </tr>\n",
       "  </tbody>\n",
       "</table>\n",
       "</div>"
      ],
      "text/plain": [
       "    ProductName   Platform  OsBuild  AVProductsInstalled\n",
       "0  win8defender  windows10    17134                  1.0\n",
       "1  win8defender  windows10    17134                  1.0\n",
       "2  win8defender  windows10    17134                  1.0\n",
       "3  win8defender  windows10    17134                  1.0\n",
       "4  win8defender  windows10    17134                  1.0"
      ]
     },
     "execution_count": 8,
     "metadata": {},
     "output_type": "execute_result"
    }
   ],
   "source": [
    "cols_to_use = ['ProductName', 'Platform', 'OsBuild', 'AVProductsInstalled']\n",
    "X_raw = df[cols_to_use].copy()\n",
    "X_raw.head(5)"
   ]
  },
  {
   "cell_type": "markdown",
   "metadata": {},
   "source": [
    "### Check the data for missing data\n",
    "\n",
    "Here we see a missing data for `AVProductsInstalled`"
   ]
  },
  {
   "cell_type": "code",
   "execution_count": 9,
   "metadata": {},
   "outputs": [
    {
     "data": {
      "text/plain": [
       "ProductName            False\n",
       "Platform               False\n",
       "OsBuild                False\n",
       "AVProductsInstalled     True\n",
       "dtype: bool"
      ]
     },
     "execution_count": 9,
     "metadata": {},
     "output_type": "execute_result"
    }
   ],
   "source": [
    "X_raw.isna().any()"
   ]
  },
  {
   "cell_type": "markdown",
   "metadata": {},
   "source": [
    "### Impute the missing data\n",
    "\n",
    "Using a conservative approach, all missing information are set to 0"
   ]
  },
  {
   "cell_type": "code",
   "execution_count": 10,
   "metadata": {},
   "outputs": [],
   "source": [
    "X_raw.loc[X_raw['AVProductsInstalled'].isna(), 'AVProductsInstalled'] = 0"
   ]
  },
  {
   "cell_type": "code",
   "execution_count": 11,
   "metadata": {},
   "outputs": [
    {
     "data": {
      "text/plain": [
       "ProductName            False\n",
       "Platform               False\n",
       "OsBuild                False\n",
       "AVProductsInstalled    False\n",
       "dtype: bool"
      ]
     },
     "execution_count": 11,
     "metadata": {},
     "output_type": "execute_result"
    }
   ],
   "source": [
    "X_raw.isna().any(axis=0)"
   ]
  },
  {
   "cell_type": "markdown",
   "metadata": {},
   "source": [
    "### Split the data to training and test"
   ]
  },
  {
   "cell_type": "code",
   "execution_count": 12,
   "metadata": {
    "ExecuteTime": {
     "end_time": "2019-03-04T01:41:11.447293Z",
     "start_time": "2019-03-04T01:41:11.436321Z"
    }
   },
   "outputs": [
    {
     "name": "stdout",
     "output_type": "stream",
     "text": [
      "train_X_raw: (8000, 4)\n",
      "test_X_raw: (2000, 4)\n",
      "train_y: (8000,)\n",
      "test_y: (2000,)\n"
     ]
    }
   ],
   "source": [
    "train_X_raw, test_X_raw, train_y, test_y = train_test_split(X_raw, y, test_size=0.2, random_state=0, stratify=y)\n",
    "print(f'train_X_raw: {train_X_raw.shape}')\n",
    "print(f'test_X_raw: {test_X_raw.shape}')\n",
    "print(f'train_y: {train_y.shape}')\n",
    "print(f'test_y: {test_y.shape}')"
   ]
  },
  {
   "cell_type": "markdown",
   "metadata": {},
   "source": [
    "### Define encoders to convert the data to numeric"
   ]
  },
  {
   "cell_type": "code",
   "execution_count": 13,
   "metadata": {},
   "outputs": [],
   "source": [
    "encoders = ColumnTransformer([\n",
    "    ('ohe', OneHotEncoder(sparse=False, handle_unknown='ignore'), ['ProductName', 'Platform', 'OsBuild']),\n",
    "    ('scaler', StandardScaler(), ['AVProductsInstalled'])\n",
    "])"
   ]
  },
  {
   "cell_type": "markdown",
   "metadata": {},
   "source": [
    "### Encode the training data. Note the use of the ```fit_transform``` for the training encoding"
   ]
  },
  {
   "cell_type": "code",
   "execution_count": 14,
   "metadata": {},
   "outputs": [],
   "source": [
    "train_X = encoders.fit_transform(train_X_raw)"
   ]
  },
  {
   "cell_type": "code",
   "execution_count": 15,
   "metadata": {},
   "outputs": [
    {
     "data": {
      "text/plain": [
       "array([[ 0.        ,  1.        ,  1.        , ...,  0.        ,\n",
       "         0.        , -0.60198557],\n",
       "       [ 0.        ,  1.        ,  1.        , ...,  0.        ,\n",
       "         0.        , -0.60198557],\n",
       "       [ 1.        ,  0.        ,  0.        , ...,  0.        ,\n",
       "         0.        , -0.60198557],\n",
       "       ...,\n",
       "       [ 0.        ,  1.        ,  1.        , ...,  0.        ,\n",
       "         0.        , -0.60198557],\n",
       "       [ 0.        ,  1.        ,  1.        , ...,  0.        ,\n",
       "         0.        , -0.60198557],\n",
       "       [ 0.        ,  1.        ,  1.        , ...,  0.        ,\n",
       "         0.        , -0.60198557]])"
      ]
     },
     "execution_count": 15,
     "metadata": {},
     "output_type": "execute_result"
    }
   ],
   "source": [
    "train_X"
   ]
  },
  {
   "cell_type": "code",
   "execution_count": 16,
   "metadata": {},
   "outputs": [
    {
     "data": {
      "text/plain": [
       "(8000, 27)"
      ]
     },
     "execution_count": 16,
     "metadata": {},
     "output_type": "execute_result"
    }
   ],
   "source": [
    "train_X.shape"
   ]
  },
  {
   "cell_type": "markdown",
   "metadata": {},
   "source": [
    "### Encode the test data. Note the use of ``transform`` only for the testing encoding"
   ]
  },
  {
   "cell_type": "code",
   "execution_count": 17,
   "metadata": {
    "ExecuteTime": {
     "end_time": "2019-03-04T01:59:11.160287Z",
     "start_time": "2019-03-04T01:59:11.145284Z"
    }
   },
   "outputs": [],
   "source": [
    "test_X = encoders.transform(test_X_raw)"
   ]
  },
  {
   "cell_type": "code",
   "execution_count": 18,
   "metadata": {},
   "outputs": [
    {
     "data": {
      "text/plain": [
       "array([[ 0.        ,  1.        ,  1.        , ...,  0.        ,\n",
       "         0.        , -0.60198557],\n",
       "       [ 0.        ,  1.        ,  1.        , ...,  0.        ,\n",
       "         0.        , -0.60198557],\n",
       "       [ 0.        ,  1.        ,  1.        , ...,  0.        ,\n",
       "         0.        , -0.60198557],\n",
       "       ...,\n",
       "       [ 0.        ,  1.        ,  1.        , ...,  0.        ,\n",
       "         0.        ,  3.23384441],\n",
       "       [ 0.        ,  1.        ,  1.        , ...,  0.        ,\n",
       "         0.        ,  1.31592942],\n",
       "       [ 0.        ,  1.        ,  1.        , ...,  0.        ,\n",
       "         0.        ,  1.31592942]])"
      ]
     },
     "execution_count": 18,
     "metadata": {},
     "output_type": "execute_result"
    }
   ],
   "source": [
    "test_X"
   ]
  },
  {
   "cell_type": "code",
   "execution_count": 19,
   "metadata": {},
   "outputs": [
    {
     "data": {
      "text/plain": [
       "(2000, 27)"
      ]
     },
     "execution_count": 19,
     "metadata": {},
     "output_type": "execute_result"
    }
   ],
   "source": [
    "test_X.shape"
   ]
  },
  {
   "cell_type": "markdown",
   "metadata": {},
   "source": [
    "### Create a Keras model to train for training"
   ]
  },
  {
   "cell_type": "code",
   "execution_count": 20,
   "metadata": {
    "ExecuteTime": {
     "end_time": "2019-03-04T02:00:31.611493Z",
     "start_time": "2019-03-04T02:00:29.235388Z"
    }
   },
   "outputs": [],
   "source": [
    "input_ = tf.keras.layers.Input(shape=(27,))\n",
    "dense1 = tf.keras.layers.Dense(10, activation='relu')(input_)\n",
    "reg1 = dense1\n",
    "# reg1 = tf.keras.layers.Dropout(0.1)(dense1)\n",
    "# reg1 = tf.keras.layers.BatchNormalization()(dense1)\n",
    "dense2 = tf.keras.layers.Dense(256, activation='relu')(reg1)\n",
    "reg2 = dense2\n",
    "# reg2 = tf.keras.layers.Dropout(0.1)(dense2)\n",
    "# reg2 = tf.keras.layers.BatchNormalization()(dense2)\n",
    "# dense3 = tf.keras.layers.Dense(256, activation='relu', \n",
    "#                                kernel_regularizer=tf.keras.regularizers.l1_l2(l1=0.01, l2=0.01))(reg2)\n",
    "dense3 = tf.keras.layers.Dense(256, activation='relu')(reg2)\n",
    "output = tf.keras.layers.Dense(1, activation='sigmoid')(dense3)"
   ]
  },
  {
   "cell_type": "code",
   "execution_count": 21,
   "metadata": {
    "ExecuteTime": {
     "end_time": "2019-03-04T02:00:32.972283Z",
     "start_time": "2019-03-04T02:00:32.968284Z"
    }
   },
   "outputs": [],
   "source": [
    "model = tf.keras.Model(inputs=input_, outputs=output)"
   ]
  },
  {
   "cell_type": "code",
   "execution_count": 22,
   "metadata": {
    "ExecuteTime": {
     "end_time": "2019-03-04T02:00:33.577290Z",
     "start_time": "2019-03-04T02:00:33.572284Z"
    },
    "scrolled": true
   },
   "outputs": [
    {
     "name": "stdout",
     "output_type": "stream",
     "text": [
      "Model: \"model\"\n",
      "_________________________________________________________________\n",
      "Layer (type)                 Output Shape              Param #   \n",
      "=================================================================\n",
      "input_1 (InputLayer)         [(None, 27)]              0         \n",
      "_________________________________________________________________\n",
      "dense (Dense)                (None, 10)                280       \n",
      "_________________________________________________________________\n",
      "dense_1 (Dense)              (None, 256)               2816      \n",
      "_________________________________________________________________\n",
      "dense_2 (Dense)              (None, 256)               65792     \n",
      "_________________________________________________________________\n",
      "dense_3 (Dense)              (None, 1)                 257       \n",
      "=================================================================\n",
      "Total params: 69,145\n",
      "Trainable params: 69,145\n",
      "Non-trainable params: 0\n",
      "_________________________________________________________________\n"
     ]
    }
   ],
   "source": [
    "model.summary()"
   ]
  },
  {
   "cell_type": "code",
   "execution_count": 23,
   "metadata": {},
   "outputs": [
    {
     "data": {
      "image/png": "[encoded data removed]",
      "text/plain": [
       "<IPython.core.display.Image object>"
      ]
     },
     "execution_count": 23,
     "metadata": {},
     "output_type": "execute_result"
    }
   ],
   "source": [
    "tf.keras.utils.plot_model(model)"
   ]
  },
  {
   "cell_type": "code",
   "execution_count": 24,
   "metadata": {
    "ExecuteTime": {
     "end_time": "2019-03-04T02:00:37.028553Z",
     "start_time": "2019-03-04T02:00:36.821288Z"
    }
   },
   "outputs": [],
   "source": [
    "model.compile('adam', 'binary_crossentropy')"
   ]
  },
  {
   "cell_type": "markdown",
   "metadata": {},
   "source": [
    "### Define an early stop\n",
    "\n",
    "This allows the training to stop if the validation loss does not improve after ```patience``` number of epochs"
   ]
  },
  {
   "cell_type": "code",
   "execution_count": 25,
   "metadata": {
    "ExecuteTime": {
     "end_time": "2019-03-04T02:02:04.528537Z",
     "start_time": "2019-03-04T02:02:04.524561Z"
    }
   },
   "outputs": [],
   "source": [
    "early_stop = tf.keras.callbacks.EarlyStopping(patience=20, restore_best_weights=True)"
   ]
  },
  {
   "cell_type": "markdown",
   "metadata": {},
   "source": [
    "### Define a model checkpoint\n",
    "\n",
    "This will save the model based on the parameters passed. In this model checkpoint, the best model is saved"
   ]
  },
  {
   "cell_type": "code",
   "execution_count": 26,
   "metadata": {
    "ExecuteTime": {
     "end_time": "2019-03-04T02:03:53.650426Z",
     "start_time": "2019-03-04T02:03:53.646425Z"
    }
   },
   "outputs": [],
   "source": [
    "MODEL_PATH = 'checkpoints/model_at_{epoch:02d}.mdl'\n",
    "os.makedirs(os.path.dirname(MODEL_PATH), exist_ok=True)\n",
    "model_checkpoint = tf.keras.callbacks.ModelCheckpoint(MODEL_PATH)"
   ]
  },
  {
   "cell_type": "markdown",
   "metadata": {},
   "source": [
    "### Train the model\n",
    "\n",
    "Add a validation split to check for overfitting and provide the early stop and model checkpoint as callbacks"
   ]
  },
  {
   "cell_type": "code",
   "execution_count": 27,
   "metadata": {
    "ExecuteTime": {
     "end_time": "2019-03-04T02:05:46.272495Z",
     "start_time": "2019-03-04T02:05:28.887425Z"
    }
   },
   "outputs": [
    {
     "name": "stdout",
     "output_type": "stream",
     "text": [
      "Train on 6400 samples, validate on 1600 samples\n",
      "Epoch 1/100\n",
      "6336/6400 [============================>.] - ETA: 0s - loss: 0.6849WARNING:tensorflow:From /home/snowtsuku/.miniconda/envs/machine-learning/lib/python3.7/site-packages/tensorflow_core/python/ops/resource_variable_ops.py:1786: calling BaseResourceVariable.__init__ (from tensorflow.python.ops.resource_variable_ops) with constraint is deprecated and will be removed in a future version.\n",
      "Instructions for updating:\n",
      "If using Keras pass *_constraint arguments to layers.\n",
      "INFO:tensorflow:Assets written to: checkpoints/model_at_01.mdl/assets\n",
      "6400/6400 [==============================] - 2s 300us/sample - loss: 0.6848 - val_loss: 0.6867\n",
      "Epoch 2/100\n",
      "6144/6400 [===========================>..] - ETA: 0s - loss: 0.6822INFO:tensorflow:Assets written to: checkpoints/model_at_02.mdl/assets\n",
      "6400/6400 [==============================] - 1s 188us/sample - loss: 0.6822 - val_loss: 0.6851\n",
      "Epoch 3/100\n",
      "5952/6400 [==========================>...] - ETA: 0s - loss: 0.6815INFO:tensorflow:Assets written to: checkpoints/model_at_03.mdl/assets\n",
      "6400/6400 [==============================] - 1s 214us/sample - loss: 0.6815 - val_loss: 0.6856\n",
      "Epoch 4/100\n",
      "6336/6400 [============================>.] - ETA: 0s - loss: 0.6803INFO:tensorflow:Assets written to: checkpoints/model_at_04.mdl/assets\n",
      "6400/6400 [==============================] - 1s 211us/sample - loss: 0.6805 - val_loss: 0.6870\n",
      "Epoch 5/100\n",
      "6304/6400 [============================>.] - ETA: 0s - loss: 0.6812INFO:tensorflow:Assets written to: checkpoints/model_at_05.mdl/assets\n",
      "6400/6400 [==============================] - 2s 235us/sample - loss: 0.6813 - val_loss: 0.6868\n",
      "Epoch 6/100\n",
      "6240/6400 [============================>.] - ETA: 0s - loss: 0.6803INFO:tensorflow:Assets written to: checkpoints/model_at_06.mdl/assets\n",
      "6400/6400 [==============================] - 1s 231us/sample - loss: 0.6805 - val_loss: 0.6860\n",
      "Epoch 7/100\n",
      "6080/6400 [===========================>..] - ETA: 0s - loss: 0.6801INFO:tensorflow:Assets written to: checkpoints/model_at_07.mdl/assets\n",
      "6400/6400 [==============================] - 1s 224us/sample - loss: 0.6802 - val_loss: 0.6856\n",
      "Epoch 8/100\n",
      "6080/6400 [===========================>..] - ETA: 0s - loss: 0.6795INFO:tensorflow:Assets written to: checkpoints/model_at_08.mdl/assets\n",
      "6400/6400 [==============================] - 2s 266us/sample - loss: 0.6801 - val_loss: 0.6866\n",
      "Epoch 9/100\n",
      "6080/6400 [===========================>..] - ETA: 0s - loss: 0.6792INFO:tensorflow:Assets written to: checkpoints/model_at_09.mdl/assets\n",
      "6400/6400 [==============================] - 1s 232us/sample - loss: 0.6796 - val_loss: 0.6859\n",
      "Epoch 10/100\n",
      "6112/6400 [===========================>..] - ETA: 0s - loss: 0.6797INFO:tensorflow:Assets written to: checkpoints/model_at_10.mdl/assets\n",
      "6400/6400 [==============================] - 1s 226us/sample - loss: 0.6799 - val_loss: 0.6882\n",
      "Epoch 11/100\n",
      "6368/6400 [============================>.] - ETA: 0s - loss: 0.6796INFO:tensorflow:Assets written to: checkpoints/model_at_11.mdl/assets\n",
      "6400/6400 [==============================] - 2s 239us/sample - loss: 0.6795 - val_loss: 0.6879\n",
      "Epoch 12/100\n",
      "6080/6400 [===========================>..] - ETA: 0s - loss: 0.6794INFO:tensorflow:Assets written to: checkpoints/model_at_12.mdl/assets\n",
      "6400/6400 [==============================] - 1s 195us/sample - loss: 0.6793 - val_loss: 0.6865\n",
      "Epoch 13/100\n",
      "6304/6400 [============================>.] - ETA: 0s - loss: 0.6795INFO:tensorflow:Assets written to: checkpoints/model_at_13.mdl/assets\n",
      "6400/6400 [==============================] - 1s 218us/sample - loss: 0.6792 - val_loss: 0.6890\n",
      "Epoch 14/100\n",
      "6144/6400 [===========================>..] - ETA: 0s - loss: 0.6801INFO:tensorflow:Assets written to: checkpoints/model_at_14.mdl/assets\n",
      "6400/6400 [==============================] - 1s 216us/sample - loss: 0.6797 - val_loss: 0.6884\n",
      "Epoch 15/100\n",
      "6176/6400 [===========================>..] - ETA: 0s - loss: 0.6785INFO:tensorflow:Assets written to: checkpoints/model_at_15.mdl/assets\n",
      "6400/6400 [==============================] - 1s 234us/sample - loss: 0.6791 - val_loss: 0.6862\n",
      "Epoch 16/100\n",
      "6048/6400 [===========================>..] - ETA: 0s - loss: 0.6804INFO:tensorflow:Assets written to: checkpoints/model_at_16.mdl/assets\n",
      "6400/6400 [==============================] - 1s 213us/sample - loss: 0.6793 - val_loss: 0.6868\n",
      "Epoch 17/100\n",
      "6080/6400 [===========================>..] - ETA: 0s - loss: 0.6794INFO:tensorflow:Assets written to: checkpoints/model_at_17.mdl/assets\n",
      "6400/6400 [==============================] - 2s 242us/sample - loss: 0.6792 - val_loss: 0.6875\n",
      "Epoch 18/100\n",
      "6112/6400 [===========================>..] - ETA: 0s - loss: 0.6785INFO:tensorflow:Assets written to: checkpoints/model_at_18.mdl/assets\n",
      "6400/6400 [==============================] - 1s 229us/sample - loss: 0.6786 - val_loss: 0.6891\n",
      "Epoch 19/100\n",
      "6208/6400 [============================>.] - ETA: 0s - loss: 0.6792INFO:tensorflow:Assets written to: checkpoints/model_at_19.mdl/assets\n",
      "6400/6400 [==============================] - 1s 207us/sample - loss: 0.6791 - val_loss: 0.6892\n",
      "Epoch 20/100\n",
      "6208/6400 [============================>.] - ETA: 0s - loss: 0.6786INFO:tensorflow:Assets written to: checkpoints/model_at_20.mdl/assets\n",
      "6400/6400 [==============================] - 1s 221us/sample - loss: 0.6788 - val_loss: 0.6876\n",
      "Epoch 21/100\n",
      "6176/6400 [===========================>..] - ETA: 0s - loss: 0.6783INFO:tensorflow:Assets written to: checkpoints/model_at_21.mdl/assets\n",
      "6400/6400 [==============================] - 1s 208us/sample - loss: 0.6790 - val_loss: 0.6878\n",
      "Epoch 22/100\n",
      "6304/6400 [============================>.] - ETA: 0s - loss: 0.6785INFO:tensorflow:Assets written to: checkpoints/model_at_22.mdl/assets\n",
      "6400/6400 [==============================] - 1s 224us/sample - loss: 0.6786 - val_loss: 0.6881\n"
     ]
    }
   ],
   "source": [
    "training_history = model.fit(train_X, train_y, batch_size=32, epochs=100, validation_split=0.2, callbacks=[early_stop, model_checkpoint])"
   ]
  },
  {
   "cell_type": "code",
   "execution_count": 28,
   "metadata": {},
   "outputs": [
    {
     "name": "stdout",
     "output_type": "stream",
     "text": [
      "model_at_01.mdl  model_at_07.mdl  model_at_13.mdl  model_at_19.mdl\r\n",
      "model_at_02.mdl  model_at_08.mdl  model_at_14.mdl  model_at_20.mdl\r\n",
      "model_at_03.mdl  model_at_09.mdl  model_at_15.mdl  model_at_21.mdl\r\n",
      "model_at_04.mdl  model_at_10.mdl  model_at_16.mdl  model_at_22.mdl\r\n",
      "model_at_05.mdl  model_at_11.mdl  model_at_17.mdl\r\n",
      "model_at_06.mdl  model_at_12.mdl  model_at_18.mdl\r\n"
     ]
    }
   ],
   "source": [
    "!ls checkpoints/"
   ]
  },
  {
   "cell_type": "markdown",
   "metadata": {},
   "source": [
    "### Save the model"
   ]
  },
  {
   "cell_type": "code",
   "execution_count": 29,
   "metadata": {},
   "outputs": [
    {
     "name": "stdout",
     "output_type": "stream",
     "text": [
      "INFO:tensorflow:Assets written to: model.mdl/assets\n"
     ]
    }
   ],
   "source": [
    "SAVED_MODEL_PATH = 'model.mdl'\n",
    "model.save(SAVED_MODEL_PATH)"
   ]
  },
  {
   "cell_type": "markdown",
   "metadata": {},
   "source": [
    "### Load the saved model"
   ]
  },
  {
   "cell_type": "code",
   "execution_count": 30,
   "metadata": {
    "ExecuteTime": {
     "end_time": "2019-03-04T02:07:06.917547Z",
     "start_time": "2019-03-04T02:07:06.073491Z"
    }
   },
   "outputs": [],
   "source": [
    "saved_model = tf.keras.models.load_model(SAVED_MODEL_PATH)"
   ]
  },
  {
   "cell_type": "markdown",
   "metadata": {},
   "source": [
    "### Verify the structure of the loaded model"
   ]
  },
  {
   "cell_type": "code",
   "execution_count": 31,
   "metadata": {
    "ExecuteTime": {
     "end_time": "2019-03-04T02:07:35.830331Z",
     "start_time": "2019-03-04T02:07:35.825369Z"
    }
   },
   "outputs": [
    {
     "name": "stdout",
     "output_type": "stream",
     "text": [
      "Model: \"model\"\n",
      "_________________________________________________________________\n",
      "Layer (type)                 Output Shape              Param #   \n",
      "=================================================================\n",
      "input_1 (InputLayer)         [(None, 27)]              0         \n",
      "_________________________________________________________________\n",
      "dense (Dense)                (None, 10)                280       \n",
      "_________________________________________________________________\n",
      "dense_1 (Dense)              (None, 256)               2816      \n",
      "_________________________________________________________________\n",
      "dense_2 (Dense)              (None, 256)               65792     \n",
      "_________________________________________________________________\n",
      "dense_3 (Dense)              (None, 1)                 257       \n",
      "=================================================================\n",
      "Total params: 69,145\n",
      "Trainable params: 69,145\n",
      "Non-trainable params: 0\n",
      "_________________________________________________________________\n"
     ]
    }
   ],
   "source": [
    "saved_model.summary()"
   ]
  },
  {
   "cell_type": "code",
   "execution_count": 32,
   "metadata": {},
   "outputs": [
    {
     "data": {
      "image/png": "[encoded data removed]",
      "text/plain": [
       "<IPython.core.display.Image object>"
      ]
     },
     "execution_count": 32,
     "metadata": {},
     "output_type": "execute_result"
    }
   ],
   "source": [
    "tf.keras.utils.plot_model(saved_model)"
   ]
  },
  {
   "cell_type": "markdown",
   "metadata": {},
   "source": [
    "### Consume the best model\n",
    "\n",
    "Prediction and evaluation can be performed on the best model"
   ]
  },
  {
   "cell_type": "code",
   "execution_count": 33,
   "metadata": {
    "ExecuteTime": {
     "end_time": "2019-03-04T02:10:36.174505Z",
     "start_time": "2019-03-04T02:10:35.777968Z"
    }
   },
   "outputs": [],
   "source": [
    "test_y_pred = saved_model.predict(test_X)"
   ]
  },
  {
   "cell_type": "code",
   "execution_count": 34,
   "metadata": {
    "ExecuteTime": {
     "end_time": "2019-03-04T02:10:40.781550Z",
     "start_time": "2019-03-04T02:10:40.612552Z"
    }
   },
   "outputs": [
    {
     "name": "stdout",
     "output_type": "stream",
     "text": [
      "2000/2000 [==============================] - 0s 110us/sample - loss: 0.6845\n"
     ]
    },
    {
     "data": {
      "text/plain": [
       "0.684491406917572"
      ]
     },
     "execution_count": 34,
     "metadata": {},
     "output_type": "execute_result"
    }
   ],
   "source": [
    "saved_model.evaluate(test_X, test_y)"
   ]
  }
 ],
 "metadata": {
  "kernelspec": {
   "display_name": "Python 3",
   "language": "python",
   "name": "python3"
  },
  "language_info": {
   "codemirror_mode": {
    "name": "ipython",
    "version": 3
   },
   "file_extension": ".py",
   "mimetype": "text/x-python",
   "name": "python",
   "nbconvert_exporter": "python",
   "pygments_lexer": "ipython3",
   "version": "3.7.6"
  }
 },
 "nbformat": 4,
 "nbformat_minor": 2
}
