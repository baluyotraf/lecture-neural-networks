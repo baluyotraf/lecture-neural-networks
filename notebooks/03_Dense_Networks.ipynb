{
 "cells": [
  {
   "cell_type": "markdown",
   "metadata": {},
   "source": [
    "# Dense Networks\n",
    "\n",
    "This notebook shows how to apply dense networks into real life data"
   ]
  },
  {
   "cell_type": "markdown",
   "metadata": {},
   "source": [
    "### Import all the needed modules"
   ]
  },
  {
   "cell_type": "code",
   "execution_count": null,
   "metadata": {
    "ExecuteTime": {
     "end_time": "2019-03-04T02:06:51.078493Z",
     "start_time": "2019-03-04T02:06:51.072493Z"
    }
   },
   "outputs": [],
   "source": [
    "import os\n",
    "\n",
    "import numpy as np\n",
    "import pandas as pd\n",
    "import tensorflow as tf\n",
    "from sklearn.compose import ColumnTransformer\n",
    "from sklearn.preprocessing import OneHotEncoder, StandardScaler \n",
    "from sklearn.model_selection import train_test_split"
   ]
  },
  {
   "cell_type": "markdown",
   "metadata": {},
   "source": [
    "### Define the path of the data source for convenience\n",
    "\n",
    "Source of the data is the `train.csv` of https://www.kaggle.com/c/microsoft-malware-prediction/data\n",
    "\n",
    "A subset of the data with 10000 rows is also provided with the code in the `data` directory"
   ]
  },
  {
   "cell_type": "code",
   "execution_count": null,
   "metadata": {
    "ExecuteTime": {
     "end_time": "2019-03-04T01:31:10.921205Z",
     "start_time": "2019-03-04T01:31:10.918203Z"
    }
   },
   "outputs": [],
   "source": [
    "CSV_PATH = '../data/malware.csv'"
   ]
  },
  {
   "cell_type": "markdown",
   "metadata": {
    "ExecuteTime": {
     "end_time": "2019-03-04T01:17:11.711621Z",
     "start_time": "2019-03-04T01:17:11.707579Z"
    }
   },
   "source": [
    "### Read the first 10,000 rows of the data"
   ]
  },
  {
   "cell_type": "code",
   "execution_count": null,
   "metadata": {
    "ExecuteTime": {
     "end_time": "2019-03-04T01:34:12.769732Z",
     "start_time": "2019-03-04T01:34:10.579732Z"
    }
   },
   "outputs": [],
   "source": [
    "df = pd.read_csv(CSV_PATH, nrows=10000)"
   ]
  },
  {
   "cell_type": "markdown",
   "metadata": {},
   "source": [
    "### View the loaded dataset"
   ]
  },
  {
   "cell_type": "code",
   "execution_count": null,
   "metadata": {
    "ExecuteTime": {
     "end_time": "2019-03-04T01:34:17.899198Z",
     "start_time": "2019-03-04T01:34:17.573188Z"
    }
   },
   "outputs": [],
   "source": [
    "df.head()"
   ]
  },
  {
   "cell_type": "code",
   "execution_count": null,
   "metadata": {},
   "outputs": [],
   "source": [
    "df.tail()"
   ]
  },
  {
   "cell_type": "markdown",
   "metadata": {},
   "source": [
    "### Extract the labels of the data"
   ]
  },
  {
   "cell_type": "code",
   "execution_count": null,
   "metadata": {
    "ExecuteTime": {
     "end_time": "2019-03-04T01:34:45.042942Z",
     "start_time": "2019-03-04T01:34:45.038948Z"
    }
   },
   "outputs": [],
   "source": [
    "y = df['HasDetections'].values"
   ]
  },
  {
   "cell_type": "code",
   "execution_count": null,
   "metadata": {
    "ExecuteTime": {
     "end_time": "2019-03-04T01:34:45.621977Z",
     "start_time": "2019-03-04T01:34:45.614984Z"
    }
   },
   "outputs": [],
   "source": [
    "y"
   ]
  },
  {
   "cell_type": "markdown",
   "metadata": {},
   "source": [
    "### Select a few columns as features"
   ]
  },
  {
   "cell_type": "code",
   "execution_count": null,
   "metadata": {
    "ExecuteTime": {
     "end_time": "2019-03-04T01:40:55.373291Z",
     "start_time": "2019-03-04T01:40:55.359319Z"
    }
   },
   "outputs": [],
   "source": [
    "cols_to_use = ['ProductName', 'Platform', 'OsBuild', 'AVProductsInstalled']\n",
    "X_raw = df[cols_to_use].copy()\n",
    "X_raw.head(5)"
   ]
  },
  {
   "cell_type": "markdown",
   "metadata": {},
   "source": [
    "### Check the data for missing data\n",
    "\n",
    "Here we see a missing data for `AVProductsInstalled`"
   ]
  },
  {
   "cell_type": "code",
   "execution_count": null,
   "metadata": {},
   "outputs": [],
   "source": [
    "X_raw.isna().any()"
   ]
  },
  {
   "cell_type": "markdown",
   "metadata": {},
   "source": [
    "### Impute the missing data\n",
    "\n",
    "Using a conservative approach, all missing information are set to 0"
   ]
  },
  {
   "cell_type": "code",
   "execution_count": null,
   "metadata": {},
   "outputs": [],
   "source": [
    "X_raw.loc[X_raw['AVProductsInstalled'].isna(), 'AVProductsInstalled'] = 0"
   ]
  },
  {
   "cell_type": "code",
   "execution_count": null,
   "metadata": {},
   "outputs": [],
   "source": [
    "X_raw.isna().any(axis=0)"
   ]
  },
  {
   "cell_type": "markdown",
   "metadata": {},
   "source": [
    "### Split the data to training and test"
   ]
  },
  {
   "cell_type": "code",
   "execution_count": null,
   "metadata": {
    "ExecuteTime": {
     "end_time": "2019-03-04T01:41:11.447293Z",
     "start_time": "2019-03-04T01:41:11.436321Z"
    }
   },
   "outputs": [],
   "source": [
    "train_X_raw, test_X_raw, train_y, test_y = train_test_split(X_raw, y, test_size=0.2, random_state=0, stratify=y)\n",
    "print(f'train_X_raw: {train_X_raw.shape}')\n",
    "print(f'test_X_raw: {test_X_raw.shape}')\n",
    "print(f'train_y: {train_y.shape}')\n",
    "print(f'test_y: {test_y.shape}')"
   ]
  },
  {
   "cell_type": "markdown",
   "metadata": {},
   "source": [
    "### Define encoders to convert the data to numeric"
   ]
  },
  {
   "cell_type": "code",
   "execution_count": null,
   "metadata": {},
   "outputs": [],
   "source": [
    "encoders = ColumnTransformer([\n",
    "    ('ohe', OneHotEncoder(sparse=False, handle_unknown='ignore'), ['ProductName', 'Platform', 'OsBuild']),\n",
    "    ('scaler', StandardScaler(), ['AVProductsInstalled'])\n",
    "])"
   ]
  },
  {
   "cell_type": "markdown",
   "metadata": {},
   "source": [
    "### Encode the training data. Note the use of the ```fit_transform``` for the training encoding"
   ]
  },
  {
   "cell_type": "code",
   "execution_count": null,
   "metadata": {},
   "outputs": [],
   "source": [
    "train_X = encoders.fit_transform(train_X_raw)"
   ]
  },
  {
   "cell_type": "code",
   "execution_count": null,
   "metadata": {},
   "outputs": [],
   "source": [
    "train_X"
   ]
  },
  {
   "cell_type": "code",
   "execution_count": null,
   "metadata": {},
   "outputs": [],
   "source": [
    "train_X.shape"
   ]
  },
  {
   "cell_type": "markdown",
   "metadata": {},
   "source": [
    "### Encode the test data. Note the use of ``transform`` only for the testing encoding"
   ]
  },
  {
   "cell_type": "code",
   "execution_count": null,
   "metadata": {
    "ExecuteTime": {
     "end_time": "2019-03-04T01:59:11.160287Z",
     "start_time": "2019-03-04T01:59:11.145284Z"
    }
   },
   "outputs": [],
   "source": [
    "test_X = encoders.transform(test_X_raw)"
   ]
  },
  {
   "cell_type": "code",
   "execution_count": null,
   "metadata": {},
   "outputs": [],
   "source": [
    "test_X"
   ]
  },
  {
   "cell_type": "code",
   "execution_count": null,
   "metadata": {},
   "outputs": [],
   "source": [
    "test_X.shape"
   ]
  },
  {
   "cell_type": "markdown",
   "metadata": {},
   "source": [
    "### Create a Keras model to train for training.\n",
    "\n",
    "The commented codes also shows how to add additional network elements for generalization such as:\n",
    "\n",
    "*   Dropouts\n",
    "*   Batch Normalization\n",
    "*   Regularization"
   ]
  },
  {
   "cell_type": "code",
   "execution_count": null,
   "metadata": {
    "ExecuteTime": {
     "end_time": "2019-03-04T02:00:31.611493Z",
     "start_time": "2019-03-04T02:00:29.235388Z"
    }
   },
   "outputs": [],
   "source": [
    "input_ = tf.keras.layers.Input(shape=(27,))\n",
    "dense1 = tf.keras.layers.Dense(10, activation='relu')(input_)\n",
    "reg1 = dense1\n",
    "# reg1 = tf.keras.layers.Dropout(0.1)(dense1)\n",
    "# reg1 = tf.keras.layers.BatchNormalization()(dense1)\n",
    "dense2 = tf.keras.layers.Dense(256, activation='relu')(reg1)\n",
    "reg2 = dense2\n",
    "# reg2 = tf.keras.layers.Dropout(0.1)(dense2)\n",
    "# reg2 = tf.keras.layers.BatchNormalization()(dense2)\n",
    "# dense3 = tf.keras.layers.Dense(256, activation='relu', \n",
    "#                                kernel_regularizer=tf.keras.regularizers.l1_l2(l1=0.01, l2=0.01))(reg2)\n",
    "dense3 = tf.keras.layers.Dense(256, activation='relu')(reg2)\n",
    "output = tf.keras.layers.Dense(1, activation='sigmoid')(dense3)"
   ]
  },
  {
   "cell_type": "code",
   "execution_count": null,
   "metadata": {
    "ExecuteTime": {
     "end_time": "2019-03-04T02:00:32.972283Z",
     "start_time": "2019-03-04T02:00:32.968284Z"
    }
   },
   "outputs": [],
   "source": [
    "model = tf.keras.Model(inputs=input_, outputs=output)"
   ]
  },
  {
   "cell_type": "code",
   "execution_count": null,
   "metadata": {
    "ExecuteTime": {
     "end_time": "2019-03-04T02:00:33.577290Z",
     "start_time": "2019-03-04T02:00:33.572284Z"
    },
    "scrolled": true
   },
   "outputs": [],
   "source": [
    "model.summary()"
   ]
  },
  {
   "cell_type": "code",
   "execution_count": null,
   "metadata": {},
   "outputs": [],
   "source": [
    "tf.keras.utils.plot_model(model)"
   ]
  },
  {
   "cell_type": "code",
   "execution_count": null,
   "metadata": {
    "ExecuteTime": {
     "end_time": "2019-03-04T02:00:37.028553Z",
     "start_time": "2019-03-04T02:00:36.821288Z"
    }
   },
   "outputs": [],
   "source": [
    "model.compile('adam', 'binary_crossentropy')"
   ]
  },
  {
   "cell_type": "markdown",
   "metadata": {},
   "source": [
    "### Define an early stop\n",
    "\n",
    "This allows the training to stop if the validation loss does not improve after ```patience``` number of epochs"
   ]
  },
  {
   "cell_type": "code",
   "execution_count": null,
   "metadata": {
    "ExecuteTime": {
     "end_time": "2019-03-04T02:02:04.528537Z",
     "start_time": "2019-03-04T02:02:04.524561Z"
    }
   },
   "outputs": [],
   "source": [
    "early_stop = tf.keras.callbacks.EarlyStopping(patience=20, restore_best_weights=True)"
   ]
  },
  {
   "cell_type": "markdown",
   "metadata": {},
   "source": [
    "### Define a model checkpoint\n",
    "\n",
    "This will save the model based on the parameters passed. In this model checkpoint, the best model is saved"
   ]
  },
  {
   "cell_type": "code",
   "execution_count": null,
   "metadata": {
    "ExecuteTime": {
     "end_time": "2019-03-04T02:03:53.650426Z",
     "start_time": "2019-03-04T02:03:53.646425Z"
    }
   },
   "outputs": [],
   "source": [
    "MODEL_PATH = 'dense/checkpoints/model_at_{epoch:02d}.mdl'\n",
    "os.makedirs(os.path.dirname(MODEL_PATH), exist_ok=True)\n",
    "model_checkpoint = tf.keras.callbacks.ModelCheckpoint(MODEL_PATH)"
   ]
  },
  {
   "cell_type": "markdown",
   "metadata": {},
   "source": [
    "### Train the model\n",
    "\n",
    "Add a validation split to check for overfitting and provide the early stop and model checkpoint as callbacks"
   ]
  },
  {
   "cell_type": "code",
   "execution_count": null,
   "metadata": {
    "ExecuteTime": {
     "end_time": "2019-03-04T02:05:46.272495Z",
     "start_time": "2019-03-04T02:05:28.887425Z"
    }
   },
   "outputs": [],
   "source": [
    "training_history = model.fit(train_X, train_y, batch_size=32, epochs=100, validation_split=0.2, callbacks=[early_stop, model_checkpoint])"
   ]
  },
  {
   "cell_type": "code",
   "execution_count": null,
   "metadata": {},
   "outputs": [],
   "source": [
    "!ls dense/checkpoints/"
   ]
  },
  {
   "cell_type": "markdown",
   "metadata": {},
   "source": [
    "### Save the model"
   ]
  },
  {
   "cell_type": "code",
   "execution_count": null,
   "metadata": {},
   "outputs": [],
   "source": [
    "SAVED_MODEL_PATH = 'dense/model.mdl'\n",
    "model.save(SAVED_MODEL_PATH)"
   ]
  },
  {
   "cell_type": "markdown",
   "metadata": {},
   "source": [
    "### Load the saved model"
   ]
  },
  {
   "cell_type": "code",
   "execution_count": null,
   "metadata": {
    "ExecuteTime": {
     "end_time": "2019-03-04T02:07:06.917547Z",
     "start_time": "2019-03-04T02:07:06.073491Z"
    }
   },
   "outputs": [],
   "source": [
    "saved_model = tf.keras.models.load_model(SAVED_MODEL_PATH)"
   ]
  },
  {
   "cell_type": "markdown",
   "metadata": {},
   "source": [
    "### Verify the structure of the loaded model"
   ]
  },
  {
   "cell_type": "code",
   "execution_count": null,
   "metadata": {
    "ExecuteTime": {
     "end_time": "2019-03-04T02:07:35.830331Z",
     "start_time": "2019-03-04T02:07:35.825369Z"
    }
   },
   "outputs": [],
   "source": [
    "saved_model.summary()"
   ]
  },
  {
   "cell_type": "code",
   "execution_count": null,
   "metadata": {},
   "outputs": [],
   "source": [
    "tf.keras.utils.plot_model(saved_model)"
   ]
  },
  {
   "cell_type": "markdown",
   "metadata": {},
   "source": [
    "### Consume the best model\n",
    "\n",
    "Prediction and evaluation can be performed on the best model"
   ]
  },
  {
   "cell_type": "code",
   "execution_count": null,
   "metadata": {
    "ExecuteTime": {
     "end_time": "2019-03-04T02:10:36.174505Z",
     "start_time": "2019-03-04T02:10:35.777968Z"
    }
   },
   "outputs": [],
   "source": [
    "test_y_pred = saved_model.predict(test_X)"
   ]
  },
  {
   "cell_type": "code",
   "execution_count": null,
   "metadata": {
    "ExecuteTime": {
     "end_time": "2019-03-04T02:10:40.781550Z",
     "start_time": "2019-03-04T02:10:40.612552Z"
    }
   },
   "outputs": [],
   "source": [
    "saved_model.evaluate(test_X, test_y)"
   ]
  }
 ],
 "metadata": {
  "kernelspec": {
   "display_name": "Python 3 (ipykernel)",
   "language": "python",
   "name": "python3"
  },
  "language_info": {
   "codemirror_mode": {
    "name": "ipython",
    "version": 3
   },
   "file_extension": ".py",
   "mimetype": "text/x-python",
   "name": "python",
   "nbconvert_exporter": "python",
   "pygments_lexer": "ipython3",
   "version": "3.8.15"
  }
 },
 "nbformat": 4,
 "nbformat_minor": 2
}
