{
 "cells": [
  {
   "cell_type": "markdown",
   "metadata": {},
   "source": [
    "# Transfer Learning\n",
    "\n",
    "This notebook shows how to apply transfer learning on image datasets"
   ]
  },
  {
   "cell_type": "markdown",
   "metadata": {},
   "source": [
    "### Import all the needed modules"
   ]
  },
  {
   "cell_type": "code",
   "execution_count": null,
   "metadata": {
    "ExecuteTime": {
     "end_time": "2019-03-13T13:34:47.416060Z",
     "start_time": "2019-03-13T13:34:45.812050Z"
    }
   },
   "outputs": [],
   "source": [
    "import os\n",
    "import tensorflow as tf\n",
    "import matplotlib.pyplot as plt\n",
    "import seaborn as sns\n",
    "import numpy as np\n",
    "from sklearn.metrics import (\n",
    "    roc_auc_score, \n",
    "    accuracy_score, \n",
    "    confusion_matrix, \n",
    "    classification_report, \n",
    "    precision_recall_curve,\n",
    ")\n",
    "\n",
    "sns.set()"
   ]
  },
  {
   "cell_type": "markdown",
   "metadata": {},
   "source": [
    "### Define paths for the data location and the place to save the model\n",
    "\n",
    "Source of the data is https://www.kaggle.com/datasets/shaunthesheep/microsoft-catsvsdogs-dataset\n",
    "\n",
    "The smaller data is also provided with the code in the `data` directory.\n",
    "The provided data has small amount of training data to demonstrate the impact of transfer learning."
   ]
  },
  {
   "cell_type": "code",
   "execution_count": null,
   "metadata": {
    "ExecuteTime": {
     "end_time": "2019-03-13T13:42:00.019264Z",
     "start_time": "2019-03-13T13:42:00.016388Z"
    }
   },
   "outputs": [],
   "source": [
    "TRAIN_DIR = '../data/catdog/train'\n",
    "TEST_DIR = '../data/catdog/test'\n",
    "CKPT_DIR ='transfer/checkpoints/vgg_16_ckpts_{epoch:03d}.ckpt'\n",
    "BEST_DIR ='transfer/checkpoints/vgg_16_best.ckpt'\n",
    "BATCH_SIZE = 32\n",
    "IMAGE_SIZE = (224, 224)"
   ]
  },
  {
   "cell_type": "markdown",
   "metadata": {},
   "source": [
    "### Load the images and add augmentations\n",
    "\n",
    "The training/validation set has multiple random data transformations while the training set is just scaled for the sake of normalization"
   ]
  },
  {
   "cell_type": "code",
   "execution_count": null,
   "metadata": {
    "ExecuteTime": {
     "end_time": "2019-03-13T13:42:01.042333Z",
     "start_time": "2019-03-13T13:42:00.713058Z"
    }
   },
   "outputs": [],
   "source": [
    "train_idg = tf.keras.preprocessing.image.ImageDataGenerator(\n",
    "    rotation_range=360,\n",
    "    zoom_range=0.2,\n",
    "    fill_mode='reflect',\n",
    "    horizontal_flip=True,\n",
    "    vertical_flip=True,\n",
    "    validation_split=0.2\n",
    ")\n",
    "test_idg = tf.keras.preprocessing.image.ImageDataGenerator()\n",
    "\n",
    "class_mode = 'binary'\n",
    "classes = {\n",
    "    'cat': 0,\n",
    "    'dog': 1,\n",
    "}\n",
    "\n",
    "train_gen = train_idg.flow_from_directory(TRAIN_DIR, IMAGE_SIZE,\n",
    "                                          seed=0,\n",
    "                                          batch_size=BATCH_SIZE,\n",
    "                                          subset='training',\n",
    "                                          class_mode=class_mode,\n",
    "                                          classes=classes)\n",
    "\n",
    "valid_gen = train_idg.flow_from_directory(TRAIN_DIR, IMAGE_SIZE,\n",
    "                                          seed=0,\n",
    "                                          batch_size=BATCH_SIZE,\n",
    "                                          subset='validation',\n",
    "                                          class_mode=class_mode,    \n",
    "                                          classes=classes)\n",
    "\n",
    "test_gen = test_idg.flow_from_directory(TEST_DIR, IMAGE_SIZE,\n",
    "                                        class_mode=class_mode,\n",
    "                                        classes=classes,\n",
    "                                        shuffle=False,\n",
    "                                        batch_size=1)"
   ]
  },
  {
   "cell_type": "code",
   "execution_count": null,
   "metadata": {},
   "outputs": [],
   "source": [
    "def view_generator_data(gen, n):\n",
    "    data = [next(gen) for _ in range(n)]\n",
    "    data = list(zip(*data))\n",
    "    X, y = data\n",
    "    X = np.concatenate(X, axis=0)\n",
    "    y = np.concatenate(y, axis=0)\n",
    "    return X, y\n",
    "\n",
    "def view_images(X, y, n=None):\n",
    "    n = n or len(X)\n",
    "    X = X.astype('uint8')\n",
    "    for i in range(n):\n",
    "        plt.imshow(X[i])\n",
    "        plt.grid(None)\n",
    "        plt.show()\n",
    "        print('Label: ', y[i])"
   ]
  },
  {
   "cell_type": "code",
   "execution_count": null,
   "metadata": {},
   "outputs": [],
   "source": [
    "train_X, train_y = view_generator_data(train_gen, 1)\n",
    "train_gen.reset()"
   ]
  },
  {
   "cell_type": "code",
   "execution_count": null,
   "metadata": {
    "scrolled": true
   },
   "outputs": [],
   "source": [
    "view_images(train_X, train_y)"
   ]
  },
  {
   "cell_type": "markdown",
   "metadata": {},
   "source": [
    "### Create a base model and add additional layers\n",
    "\n",
    "Load the keras VGG model without the last/top layers and add the needed layers to solve the classification problem. Also some of the initial layers of the VGG model are set to be not trainable since only fine tuning is done to the model"
   ]
  },
  {
   "cell_type": "code",
   "execution_count": null,
   "metadata": {
    "ExecuteTime": {
     "start_time": "2019-03-10T13:32:54.349Z"
    }
   },
   "outputs": [],
   "source": [
    "img_input = tf.keras.layers.Input((*IMAGE_SIZE, 3))\n",
    "preprocessed_input = tf.keras.applications.vgg16.preprocess_input(img_input)\n",
    "base_model = tf.keras.applications.VGG16(include_top=False,\n",
    "                   weights='imagenet',\n",
    "                   input_tensor=preprocessed_input)\n",
    "x = base_model.output\n",
    "x = tf.keras.layers.GlobalAveragePooling2D()(x)\n",
    "x = tf.keras.layers.Dense(1024, activation='relu')(x)\n",
    "predictions = tf.keras.layers.Dense(1, activation='sigmoid')(x)\n",
    "\n",
    "model = tf.keras.Model(inputs=img_input, outputs=predictions)\n",
    "\n",
    "for layer in base_model.layers[:-8]:\n",
    "    layer.trainable = False\n",
    "    \n",
    "model.compile(tf.keras.optimizers.SGD(learning_rate=0.001), 'binary_crossentropy')"
   ]
  },
  {
   "cell_type": "markdown",
   "metadata": {},
   "source": [
    "### Train the Keras model\n",
    "\n",
    "Different callbacks are also added save the model and regularize training"
   ]
  },
  {
   "cell_type": "code",
   "execution_count": null,
   "metadata": {
    "ExecuteTime": {
     "start_time": "2019-03-10T13:32:54.357Z"
    },
    "code_folding": [],
    "scrolled": true
   },
   "outputs": [],
   "source": [
    "es = tf.keras.callbacks.EarlyStopping(patience=30)\n",
    "os.makedirs(os.path.dirname(CKPT_DIR), exist_ok=True)\n",
    "os.makedirs(os.path.dirname(BEST_DIR), exist_ok=True)\n",
    "mc = tf.keras.callbacks.ModelCheckpoint(CKPT_DIR)\n",
    "bm = tf.keras.callbacks.ModelCheckpoint(BEST_DIR, save_best_only=True)\n",
    "hst = model.fit(\n",
    "    train_gen,\n",
    "    steps_per_epoch=1,\n",
    "    epochs=50,\n",
    "    callbacks=[es, mc, bm],\n",
    "    validation_data=valid_gen,\n",
    "    validation_steps=1,\n",
    "    max_queue_size=1\n",
    ")"
   ]
  },
  {
   "cell_type": "code",
   "execution_count": null,
   "metadata": {},
   "outputs": [],
   "source": [
    "!ls transfer/checkpoints/"
   ]
  },
  {
   "cell_type": "markdown",
   "metadata": {},
   "source": [
    "### Load the training data from the python generators\n",
    "\n",
    "Since the keras utilities create generators, they should be called to create the data"
   ]
  },
  {
   "cell_type": "code",
   "execution_count": null,
   "metadata": {
    "ExecuteTime": {
     "end_time": "2019-03-13T13:42:30.170754Z",
     "start_time": "2019-03-13T13:42:13.039675Z"
    }
   },
   "outputs": [],
   "source": [
    "test_X, test_y = view_generator_data(test_gen, test_gen.n)"
   ]
  },
  {
   "cell_type": "code",
   "execution_count": null,
   "metadata": {
    "scrolled": true
   },
   "outputs": [],
   "source": [
    "view_images(test_X, test_y)"
   ]
  },
  {
   "cell_type": "markdown",
   "metadata": {},
   "source": [
    "### Predict the result using the best model\n",
    "\n",
    "The threshold of predictions will be based on the intersection of the precision and recall curve of the training data"
   ]
  },
  {
   "cell_type": "code",
   "execution_count": null,
   "metadata": {
    "ExecuteTime": {
     "end_time": "2019-03-13T13:44:05.839533Z",
     "start_time": "2019-03-13T13:44:01.634487Z"
    }
   },
   "outputs": [],
   "source": [
    "best_model = tf.keras.models.load_model(BEST_DIR)"
   ]
  },
  {
   "cell_type": "code",
   "execution_count": null,
   "metadata": {},
   "outputs": [],
   "source": [
    "train_X, train_y = view_generator_data(train_gen, train_gen.n)\n",
    "train_y_pred = best_model.predict(train_X)"
   ]
  },
  {
   "cell_type": "code",
   "execution_count": null,
   "metadata": {},
   "outputs": [],
   "source": [
    "pr, r, thr = precision_recall_curve(train_y, train_y_pred)"
   ]
  },
  {
   "cell_type": "code",
   "execution_count": null,
   "metadata": {},
   "outputs": [],
   "source": [
    "plt.plot(thr, pr[:-1])\n",
    "plt.plot(thr, r[:-1])\n",
    "plt.show()"
   ]
  },
  {
   "cell_type": "code",
   "execution_count": null,
   "metadata": {},
   "outputs": [],
   "source": [
    "pr_r_idx = np.argmin(np.abs(pr[:-1] - r[:-1]))\n",
    "threshold = thr[pr_r_idx]\n",
    "threshold"
   ]
  },
  {
   "cell_type": "code",
   "execution_count": null,
   "metadata": {},
   "outputs": [],
   "source": [
    "test_y_pred = best_model.predict(test_X)"
   ]
  },
  {
   "cell_type": "code",
   "execution_count": null,
   "metadata": {},
   "outputs": [],
   "source": [
    "roc_auc_score(test_y, test_y_pred)"
   ]
  },
  {
   "cell_type": "code",
   "execution_count": null,
   "metadata": {},
   "outputs": [],
   "source": [
    "accuracy_score(test_y > threshold, test_y_pred > threshold)"
   ]
  },
  {
   "cell_type": "code",
   "execution_count": null,
   "metadata": {},
   "outputs": [],
   "source": [
    "print(classification_report(test_y > threshold, test_y_pred > threshold))"
   ]
  },
  {
   "cell_type": "code",
   "execution_count": null,
   "metadata": {},
   "outputs": [],
   "source": [
    "sns.heatmap(confusion_matrix(test_y > threshold, test_y_pred > threshold), annot=True)\n",
    "plt.ylabel('True')\n",
    "plt.xlabel('Pred')\n",
    "plt.show()"
   ]
  }
 ],
 "metadata": {
  "kernelspec": {
   "display_name": "Python 3 (ipykernel)",
   "language": "python",
   "name": "python3"
  },
  "language_info": {
   "codemirror_mode": {
    "name": "ipython",
    "version": 3
   },
   "file_extension": ".py",
   "mimetype": "text/x-python",
   "name": "python",
   "nbconvert_exporter": "python",
   "pygments_lexer": "ipython3",
   "version": "3.8.15"
  },
  "varInspector": {
   "cols": {
    "lenName": 16,
    "lenType": 16,
    "lenVar": 40
   },
   "kernels_config": {
    "python": {
     "delete_cmd_postfix": "",
     "delete_cmd_prefix": "del ",
     "library": "var_list.py",
     "varRefreshCmd": "print(var_dic_list())"
    },
    "r": {
     "delete_cmd_postfix": ") ",
     "delete_cmd_prefix": "rm(",
     "library": "var_list.r",
     "varRefreshCmd": "cat(var_dic_list()) "
    }
   },
   "types_to_exclude": [
    "module",
    "function",
    "builtin_function_or_method",
    "instance",
    "_Feature"
   ],
   "window_display": false
  }
 },
 "nbformat": 4,
 "nbformat_minor": 2
}
