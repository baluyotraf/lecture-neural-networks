{
 "cells": [
  {
   "cell_type": "markdown",
   "metadata": {},
   "source": [
    "# Tensorflow Keras\n",
    "\n",
    "This notebook shows how to solve a trivial problem by creating a network using tf.keras"
   ]
  },
  {
   "cell_type": "markdown",
   "metadata": {},
   "source": [
    "### Import the needed modules"
   ]
  },
  {
   "cell_type": "code",
   "execution_count": null,
   "metadata": {
    "ExecuteTime": {
     "end_time": "2019-03-04T00:51:28.770102Z",
     "start_time": "2019-03-04T00:51:26.901703Z"
    }
   },
   "outputs": [],
   "source": [
    "import numpy as np\n",
    "import tensorflow as tf\n",
    "import random\n",
    "from matplotlib import pyplot as plt\n",
    "import seaborn as sns\n",
    "\n",
    "sns.set()"
   ]
  },
  {
   "cell_type": "markdown",
   "metadata": {},
   "source": [
    "### Define the connections of the nodes in the network"
   ]
  },
  {
   "cell_type": "code",
   "execution_count": null,
   "metadata": {
    "ExecuteTime": {
     "end_time": "2019-03-04T00:51:28.822243Z",
     "start_time": "2019-03-04T00:51:28.772704Z"
    }
   },
   "outputs": [],
   "source": [
    "input_ = tf.keras.layers.Input(shape=(2,))\n",
    "dense1 = tf.keras.layers.Dense(32, activation='relu')(input_)\n",
    "dense2 = tf.keras.layers.Dense(32, activation='relu')(dense1)\n",
    "output = tf.keras.layers.Dense(1)(dense2)"
   ]
  },
  {
   "cell_type": "markdown",
   "metadata": {},
   "source": [
    "### Define a model from the input node to the last dense node"
   ]
  },
  {
   "cell_type": "code",
   "execution_count": null,
   "metadata": {
    "ExecuteTime": {
     "end_time": "2019-03-04T00:51:28.961143Z",
     "start_time": "2019-03-04T00:51:28.823704Z"
    }
   },
   "outputs": [],
   "source": [
    "model = tf.keras.Model(inputs=input_, outputs=output)"
   ]
  },
  {
   "cell_type": "markdown",
   "metadata": {},
   "source": [
    "### Verify the structure of the created model"
   ]
  },
  {
   "cell_type": "code",
   "execution_count": null,
   "metadata": {
    "ExecuteTime": {
     "end_time": "2019-03-04T00:51:29.045700Z",
     "start_time": "2019-03-04T00:51:28.963721Z"
    }
   },
   "outputs": [],
   "source": [
    "model.summary()"
   ]
  },
  {
   "cell_type": "markdown",
   "metadata": {
    "ExecuteTime": {
     "end_time": "2019-03-04T00:44:12.037008Z",
     "start_time": "2019-03-04T00:44:12.035040Z"
    }
   },
   "source": [
    "### Compile the model by providing the optimization algorithm and the loss function"
   ]
  },
  {
   "cell_type": "code",
   "execution_count": null,
   "metadata": {
    "ExecuteTime": {
     "end_time": "2019-03-04T00:51:29.148182Z",
     "start_time": "2019-03-04T00:51:29.049706Z"
    }
   },
   "outputs": [],
   "source": [
    "model.compile('adam', 'mse')"
   ]
  },
  {
   "cell_type": "markdown",
   "metadata": {
    "ExecuteTime": {
     "end_time": "2019-03-04T00:40:50.404861Z",
     "start_time": "2019-03-04T00:40:50.400890Z"
    }
   },
   "source": [
    "### Define the non linear toy problem to check if the network will work"
   ]
  },
  {
   "cell_type": "code",
   "execution_count": null,
   "metadata": {
    "ExecuteTime": {
     "end_time": "2019-03-04T00:51:29.215212Z",
     "start_time": "2019-03-04T00:51:29.149705Z"
    }
   },
   "outputs": [],
   "source": [
    "def function(x, y):\n",
    "    return 5*x**2 - 3*y**2 + 3"
   ]
  },
  {
   "cell_type": "markdown",
   "metadata": {},
   "source": [
    "### Generate random values and calculate the label using the toy problem"
   ]
  },
  {
   "cell_type": "code",
   "execution_count": null,
   "metadata": {
    "ExecuteTime": {
     "end_time": "2019-03-04T00:51:29.299702Z",
     "start_time": "2019-03-04T00:51:29.216706Z"
    }
   },
   "outputs": [],
   "source": [
    "X = np.random.rand(100, 2)\n",
    "y = function(X[:,0], X[:,1])"
   ]
  },
  {
   "cell_type": "markdown",
   "metadata": {},
   "source": [
    "### View the generated values"
   ]
  },
  {
   "cell_type": "code",
   "execution_count": null,
   "metadata": {},
   "outputs": [],
   "source": [
    "X[:, 0] # access first column"
   ]
  },
  {
   "cell_type": "code",
   "execution_count": null,
   "metadata": {},
   "outputs": [],
   "source": [
    "X[:, 1] # access second column"
   ]
  },
  {
   "cell_type": "code",
   "execution_count": null,
   "metadata": {},
   "outputs": [],
   "source": [
    "y"
   ]
  },
  {
   "cell_type": "code",
   "execution_count": null,
   "metadata": {
    "ExecuteTime": {
     "end_time": "2019-03-04T00:51:39.752666Z",
     "start_time": "2019-03-04T00:51:29.833704Z"
    }
   },
   "outputs": [],
   "source": [
    "model.fit(X, y, batch_size=4, epochs=100)"
   ]
  },
  {
   "cell_type": "markdown",
   "metadata": {},
   "source": [
    "### Predict the label using the model and verify the result"
   ]
  },
  {
   "cell_type": "code",
   "execution_count": null,
   "metadata": {
    "ExecuteTime": {
     "end_time": "2019-03-04T00:51:39.775697Z",
     "start_time": "2019-03-04T00:51:39.753668Z"
    }
   },
   "outputs": [],
   "source": [
    "predictions = model.predict(X)"
   ]
  },
  {
   "cell_type": "code",
   "execution_count": null,
   "metadata": {
    "ExecuteTime": {
     "end_time": "2019-03-04T00:51:39.986712Z",
     "start_time": "2019-03-04T00:51:39.777670Z"
    }
   },
   "outputs": [],
   "source": [
    "predictions[:5] # first 5 rows"
   ]
  },
  {
   "cell_type": "code",
   "execution_count": null,
   "metadata": {
    "ExecuteTime": {
     "end_time": "2019-03-04T00:51:40.106666Z",
     "start_time": "2019-03-04T00:51:39.987670Z"
    }
   },
   "outputs": [],
   "source": [
    "y[:5] # first 5 rows"
   ]
  },
  {
   "cell_type": "code",
   "execution_count": null,
   "metadata": {},
   "outputs": [],
   "source": [
    "def plot_3d(x, y, z, size):\n",
    "    fig = plt.figure(figsize=size)\n",
    "    ax = fig.add_subplot(111, projection='3d')\n",
    "    ax.scatter(x, y, z)\n",
    "    plt.show()"
   ]
  },
  {
   "cell_type": "code",
   "execution_count": null,
   "metadata": {},
   "outputs": [],
   "source": [
    "plot_3d(X[:, 0], X[:, 1], y, (15, 10))"
   ]
  },
  {
   "cell_type": "code",
   "execution_count": null,
   "metadata": {},
   "outputs": [],
   "source": [
    "plot_3d(X[:, 0], X[:, 1], predictions[:, 0], (15, 10))"
   ]
  },
  {
   "cell_type": "markdown",
   "metadata": {},
   "source": [
    "### The loss can also be calculated using the ```evaluate``` function"
   ]
  },
  {
   "cell_type": "code",
   "execution_count": null,
   "metadata": {
    "ExecuteTime": {
     "end_time": "2019-03-04T00:51:40.278678Z",
     "start_time": "2019-03-04T00:51:40.111667Z"
    }
   },
   "outputs": [],
   "source": [
    "model.evaluate(X, y)"
   ]
  }
 ],
 "metadata": {
  "kernelspec": {
   "display_name": "Python 3 (ipykernel)",
   "language": "python",
   "name": "python3"
  },
  "language_info": {
   "codemirror_mode": {
    "name": "ipython",
    "version": 3
   },
   "file_extension": ".py",
   "mimetype": "text/x-python",
   "name": "python",
   "nbconvert_exporter": "python",
   "pygments_lexer": "ipython3",
   "version": "3.8.15"
  }
 },
 "nbformat": 4,
 "nbformat_minor": 2
}
